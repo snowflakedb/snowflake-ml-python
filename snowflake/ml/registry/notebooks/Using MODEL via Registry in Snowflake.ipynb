{
 "cells": [
  {
   "cell_type": "markdown",
   "metadata": {},
   "source": [
    "# Using MODEL via Registry in Snowflake\n"
   ]
  },
  {
   "cell_type": "markdown",
   "metadata": {},
   "source": [
    "## Session and Registry Setup\n"
   ]
  },
  {
   "cell_type": "markdown",
   "metadata": {},
   "source": [
    "### Snowflake-ML-Python Installation\n"
   ]
  },
  {
   "cell_type": "markdown",
   "metadata": {},
   "source": [
    "- Please refer to the [installation instructions](https://docs.snowflake.com/en/developer-guide/snowflake-ml/snowpark-ml) to install `snowflake-ml-python` with the latest version.\n"
   ]
  },
  {
   "cell_type": "markdown",
   "metadata": {},
   "source": [
    "### Setup Notebook\n"
   ]
  },
  {
   "cell_type": "markdown",
   "metadata": {},
   "source": [
    "### Start Snowpark Session\n",
    "\n",
    "To avoid exposing credentials in Github, we use a small utility `SnowflakeLoginOptions`. It allows you to store credentials in `~/.snowsql/config` in the following format:\n",
    "\n",
    "```\n",
    "[connections.my_connection]\n",
    "accountname = <string>   # Account identifier to connect to Snowflake.\n",
    "username = <string>      # User name in the account. Optional.\n",
    "password = <string>      # User password. Optional.\n",
    "dbname = <string>        # Default database. Optional.\n",
    "schemaname = <string>    # Default schema. Optional.\n",
    "warehousename = <string> # Default warehouse. Optional.\n",
    "```\n",
    "\n",
    "Please follow [this](https://docs.snowflake.com/en/user-guide/snowsql-start.html#configuring-default-connection-settings) for more details.\n"
   ]
  },
  {
   "cell_type": "code",
   "execution_count": 3,
   "metadata": {},
   "outputs": [],
   "source": [
    "from snowflake.ml.utils.connection_params import SnowflakeLoginOptions\n",
    "from snowflake.snowpark import Session\n",
    "\n",
    "session = Session.builder.configs(SnowflakeLoginOptions(connection_name=\"thoyt_qa6\")).create()"
   ]
  },
  {
   "cell_type": "markdown",
   "metadata": {},
   "source": [
    "### Create or replace registry database and schema"
   ]
  },
  {
   "cell_type": "code",
   "execution_count": 4,
   "metadata": {},
   "outputs": [],
   "source": [
    "REGISTRY_DATABASE_NAME = \"MY_REGISTRY\"\n",
    "REGISTRY_SCHEMA_NAME = \"PUBLIC\""
   ]
  },
  {
   "cell_type": "code",
   "execution_count": 7,
   "metadata": {},
   "outputs": [
    {
     "data": {
      "text/plain": [
       "[Row(status='Schema PUBLIC successfully created.')]"
      ]
     },
     "execution_count": 7,
     "metadata": {},
     "output_type": "execute_result"
    }
   ],
   "source": [
    "session.sql(f\"CREATE OR REPLACE DATABASE {REGISTRY_DATABASE_NAME}\").collect()\n",
    "session.sql(f\"CREATE OR REPLACE SCHEMA {REGISTRY_SCHEMA_NAME}\").collect()"
   ]
  },
  {
   "cell_type": "markdown",
   "metadata": {},
   "source": [
    "### Open A Registry\n"
   ]
  },
  {
   "cell_type": "markdown",
   "metadata": {},
   "source": [
    "To start we need to open a registry in a given **pre-created** database and schema, or the schema your session is actively using.\n"
   ]
  },
  {
   "cell_type": "code",
   "execution_count": 8,
   "metadata": {},
   "outputs": [],
   "source": [
    "from snowflake.ml.registry import registry\n",
    "\n",
    "reg = registry.Registry(session=session, database_name=REGISTRY_DATABASE_NAME, schema_name=REGISTRY_SCHEMA_NAME)"
   ]
  },
  {
   "cell_type": "markdown",
   "metadata": {},
   "source": [
    "## Walkthrough Registry with a Small Model\n"
   ]
  },
  {
   "cell_type": "markdown",
   "metadata": {},
   "source": [
    "### Train a small model\n"
   ]
  },
  {
   "cell_type": "markdown",
   "metadata": {},
   "source": [
    "The cell below trains a small model for demonstration purposes. The nature of the model does not matter, it is purely used to demonstrate the usage of the Registry.\n"
   ]
  },
  {
   "cell_type": "code",
   "execution_count": 9,
   "metadata": {},
   "outputs": [],
   "source": [
    "from sklearn import svm, datasets\n",
    "\n",
    "digits = datasets.load_digits()\n",
    "target_digit = 6\n",
    "num_training_examples = 10\n",
    "svc_gamma = 0.001\n",
    "svc_C = 10.0\n",
    "\n",
    "clf = svm.SVC(gamma=svc_gamma, C=svc_C, probability=True)\n",
    "\n",
    "\n",
    "def one_vs_all(dataset, digit):\n",
    "    return [x == digit for x in dataset]\n",
    "\n",
    "\n",
    "# Train a classifier using num_training_examples and use the last 100 examples for test.\n",
    "train_features = digits.data[:num_training_examples]\n",
    "train_labels = one_vs_all(digits.target[:num_training_examples], target_digit)\n",
    "clf.fit(train_features, train_labels)\n",
    "\n",
    "test_features = digits.data[-100:]\n",
    "test_labels = one_vs_all(digits.target[-100:], target_digit)\n",
    "prediction = clf.predict(test_features)"
   ]
  },
  {
   "cell_type": "markdown",
   "metadata": {},
   "source": [
    "### Log the model\n"
   ]
  },
  {
   "cell_type": "markdown",
   "metadata": {},
   "source": [
    "To keep the model for future use, we need to log the model. We need to provide a model name and a version name, with the following API, a SQL MODEL object will be created on your behalf.\n"
   ]
  },
  {
   "cell_type": "code",
   "execution_count": 10,
   "metadata": {},
   "outputs": [],
   "source": [
    "model_name = \"my_model\"\n",
    "version_name = \"v1\""
   ]
  },
  {
   "cell_type": "code",
   "execution_count": 11,
   "metadata": {},
   "outputs": [
    {
     "name": "stderr",
     "output_type": "stream",
     "text": [
      "/Users/thoyt/anaconda3/envs/snowpark-ml-0304/lib/python3.11/site-packages/tqdm/auto.py:21: TqdmWarning: IProgress not found. Please update jupyter and ipywidgets. See https://ipywidgets.readthedocs.io/en/stable/user_install.html\n",
      "  from .autonotebook import tqdm as notebook_tqdm\n",
      "/Users/thoyt/anaconda3/envs/snowpark-ml-0304/lib/python3.11/site-packages/snowflake/ml/model/_model_composer/model_composer.py:202: UserWarning: `relax_version` is not set and therefore defaulted to True. Dependency version constraints relaxed from ==x.y.z to >=x.y, <(x+1). To use specific dependency versions for compatibility, reproducibility, etc., set `options={'relax_version': False}` when logging the model.\n",
      "  self.manifest.save(\n"
     ]
    }
   ],
   "source": [
    "mv = reg.log_model(\n",
    "    clf,\n",
    "    model_name=model_name,\n",
    "    version_name=version_name,\n",
    "    sample_input_data=train_features\n",
    ")"
   ]
  },
  {
   "cell_type": "markdown",
   "metadata": {},
   "source": [
    "### Run the model\n"
   ]
  },
  {
   "cell_type": "markdown",
   "metadata": {},
   "source": [
    "After being logged, the model has already been ready to use in Snowflake with Warehouse!\n"
   ]
  },
  {
   "cell_type": "code",
   "execution_count": 12,
   "metadata": {},
   "outputs": [],
   "source": [
    "remote_prediction = mv.run(test_features, function_name=\"predict\")"
   ]
  },
  {
   "cell_type": "code",
   "execution_count": 13,
   "metadata": {},
   "outputs": [
    {
     "name": "stdout",
     "output_type": "stream",
     "text": [
      "Remote prediction:    output_feature_0\n",
      "0             False\n",
      "1             False\n",
      "2             False\n",
      "3             False\n",
      "4             False\n",
      "5             False\n",
      "6             False\n",
      "7             False\n",
      "8             False\n",
      "9             False\n",
      "Result comparison: True\n"
     ]
    }
   ],
   "source": [
    "import numpy as np\n",
    "\n",
    "print(\"Remote prediction:\", remote_prediction[:10])\n",
    "\n",
    "print(\"Result comparison:\", np.array_equal(prediction, remote_prediction[\"output_feature_0\"].values))"
   ]
  },
  {
   "cell_type": "markdown",
   "metadata": {},
   "source": [
    "All methods available in the original model can be run.\n"
   ]
  },
  {
   "cell_type": "code",
   "execution_count": 14,
   "metadata": {},
   "outputs": [
    {
     "data": {
      "text/plain": [
       "[{'name': 'DECISION_FUNCTION',\n",
       "  'target_method': 'decision_function',\n",
       "  'target_method_function_type': 'FUNCTION',\n",
       "  'signature': ModelSignature(\n",
       "                      inputs=[\n",
       "                          FeatureSpec(dtype=DataType.DOUBLE, name='input_feature_0', nullable=False),\n",
       "  \t\tFeatureSpec(dtype=DataType.DOUBLE, name='input_feature_1', nullable=False),\n",
       "  \t\tFeatureSpec(dtype=DataType.DOUBLE, name='input_feature_2', nullable=False),\n",
       "  \t\tFeatureSpec(dtype=DataType.DOUBLE, name='input_feature_3', nullable=False),\n",
       "  \t\tFeatureSpec(dtype=DataType.DOUBLE, name='input_feature_4', nullable=False),\n",
       "  \t\tFeatureSpec(dtype=DataType.DOUBLE, name='input_feature_5', nullable=False),\n",
       "  \t\tFeatureSpec(dtype=DataType.DOUBLE, name='input_feature_6', nullable=False),\n",
       "  \t\tFeatureSpec(dtype=DataType.DOUBLE, name='input_feature_7', nullable=False),\n",
       "  \t\tFeatureSpec(dtype=DataType.DOUBLE, name='input_feature_8', nullable=False),\n",
       "  \t\tFeatureSpec(dtype=DataType.DOUBLE, name='input_feature_9', nullable=False),\n",
       "  \t\tFeatureSpec(dtype=DataType.DOUBLE, name='input_feature_10', nullable=False),\n",
       "  \t\tFeatureSpec(dtype=DataType.DOUBLE, name='input_feature_11', nullable=False),\n",
       "  \t\tFeatureSpec(dtype=DataType.DOUBLE, name='input_feature_12', nullable=False),\n",
       "  \t\tFeatureSpec(dtype=DataType.DOUBLE, name='input_feature_13', nullable=False),\n",
       "  \t\tFeatureSpec(dtype=DataType.DOUBLE, name='input_feature_14', nullable=False),\n",
       "  \t\tFeatureSpec(dtype=DataType.DOUBLE, name='input_feature_15', nullable=False),\n",
       "  \t\tFeatureSpec(dtype=DataType.DOUBLE, name='input_feature_16', nullable=False),\n",
       "  \t\tFeatureSpec(dtype=DataType.DOUBLE, name='input_feature_17', nullable=False),\n",
       "  \t\tFeatureSpec(dtype=DataType.DOUBLE, name='input_feature_18', nullable=False),\n",
       "  \t\tFeatureSpec(dtype=DataType.DOUBLE, name='input_feature_19', nullable=False),\n",
       "  \t\tFeatureSpec(dtype=DataType.DOUBLE, name='input_feature_20', nullable=False),\n",
       "  \t\tFeatureSpec(dtype=DataType.DOUBLE, name='input_feature_21', nullable=False),\n",
       "  \t\tFeatureSpec(dtype=DataType.DOUBLE, name='input_feature_22', nullable=False),\n",
       "  \t\tFeatureSpec(dtype=DataType.DOUBLE, name='input_feature_23', nullable=False),\n",
       "  \t\tFeatureSpec(dtype=DataType.DOUBLE, name='input_feature_24', nullable=False),\n",
       "  \t\tFeatureSpec(dtype=DataType.DOUBLE, name='input_feature_25', nullable=False),\n",
       "  \t\tFeatureSpec(dtype=DataType.DOUBLE, name='input_feature_26', nullable=False),\n",
       "  \t\tFeatureSpec(dtype=DataType.DOUBLE, name='input_feature_27', nullable=False),\n",
       "  \t\tFeatureSpec(dtype=DataType.DOUBLE, name='input_feature_28', nullable=False),\n",
       "  \t\tFeatureSpec(dtype=DataType.DOUBLE, name='input_feature_29', nullable=False),\n",
       "  \t\tFeatureSpec(dtype=DataType.DOUBLE, name='input_feature_30', nullable=False),\n",
       "  \t\tFeatureSpec(dtype=DataType.DOUBLE, name='input_feature_31', nullable=False),\n",
       "  \t\tFeatureSpec(dtype=DataType.DOUBLE, name='input_feature_32', nullable=False),\n",
       "  \t\tFeatureSpec(dtype=DataType.DOUBLE, name='input_feature_33', nullable=False),\n",
       "  \t\tFeatureSpec(dtype=DataType.DOUBLE, name='input_feature_34', nullable=False),\n",
       "  \t\tFeatureSpec(dtype=DataType.DOUBLE, name='input_feature_35', nullable=False),\n",
       "  \t\tFeatureSpec(dtype=DataType.DOUBLE, name='input_feature_36', nullable=False),\n",
       "  \t\tFeatureSpec(dtype=DataType.DOUBLE, name='input_feature_37', nullable=False),\n",
       "  \t\tFeatureSpec(dtype=DataType.DOUBLE, name='input_feature_38', nullable=False),\n",
       "  \t\tFeatureSpec(dtype=DataType.DOUBLE, name='input_feature_39', nullable=False),\n",
       "  \t\tFeatureSpec(dtype=DataType.DOUBLE, name='input_feature_40', nullable=False),\n",
       "  \t\tFeatureSpec(dtype=DataType.DOUBLE, name='input_feature_41', nullable=False),\n",
       "  \t\tFeatureSpec(dtype=DataType.DOUBLE, name='input_feature_42', nullable=False),\n",
       "  \t\tFeatureSpec(dtype=DataType.DOUBLE, name='input_feature_43', nullable=False),\n",
       "  \t\tFeatureSpec(dtype=DataType.DOUBLE, name='input_feature_44', nullable=False),\n",
       "  \t\tFeatureSpec(dtype=DataType.DOUBLE, name='input_feature_45', nullable=False),\n",
       "  \t\tFeatureSpec(dtype=DataType.DOUBLE, name='input_feature_46', nullable=False),\n",
       "  \t\tFeatureSpec(dtype=DataType.DOUBLE, name='input_feature_47', nullable=False),\n",
       "  \t\tFeatureSpec(dtype=DataType.DOUBLE, name='input_feature_48', nullable=False),\n",
       "  \t\tFeatureSpec(dtype=DataType.DOUBLE, name='input_feature_49', nullable=False),\n",
       "  \t\tFeatureSpec(dtype=DataType.DOUBLE, name='input_feature_50', nullable=False),\n",
       "  \t\tFeatureSpec(dtype=DataType.DOUBLE, name='input_feature_51', nullable=False),\n",
       "  \t\tFeatureSpec(dtype=DataType.DOUBLE, name='input_feature_52', nullable=False),\n",
       "  \t\tFeatureSpec(dtype=DataType.DOUBLE, name='input_feature_53', nullable=False),\n",
       "  \t\tFeatureSpec(dtype=DataType.DOUBLE, name='input_feature_54', nullable=False),\n",
       "  \t\tFeatureSpec(dtype=DataType.DOUBLE, name='input_feature_55', nullable=False),\n",
       "  \t\tFeatureSpec(dtype=DataType.DOUBLE, name='input_feature_56', nullable=False),\n",
       "  \t\tFeatureSpec(dtype=DataType.DOUBLE, name='input_feature_57', nullable=False),\n",
       "  \t\tFeatureSpec(dtype=DataType.DOUBLE, name='input_feature_58', nullable=False),\n",
       "  \t\tFeatureSpec(dtype=DataType.DOUBLE, name='input_feature_59', nullable=False),\n",
       "  \t\tFeatureSpec(dtype=DataType.DOUBLE, name='input_feature_60', nullable=False),\n",
       "  \t\tFeatureSpec(dtype=DataType.DOUBLE, name='input_feature_61', nullable=False),\n",
       "  \t\tFeatureSpec(dtype=DataType.DOUBLE, name='input_feature_62', nullable=False),\n",
       "  \t\tFeatureSpec(dtype=DataType.DOUBLE, name='input_feature_63', nullable=False)\n",
       "                      ],\n",
       "                      outputs=[\n",
       "                          FeatureSpec(dtype=DataType.DOUBLE, name='output_feature_0', nullable=False)\n",
       "                      ]\n",
       "                  ),\n",
       "  'is_partitioned': False},\n",
       " {'name': 'EXPLAIN',\n",
       "  'target_method': 'explain',\n",
       "  'target_method_function_type': 'TABLE_FUNCTION',\n",
       "  'signature': ModelSignature(\n",
       "                      inputs=[\n",
       "                          FeatureSpec(dtype=DataType.DOUBLE, name='input_feature_0', nullable=False),\n",
       "  \t\tFeatureSpec(dtype=DataType.DOUBLE, name='input_feature_1', nullable=False),\n",
       "  \t\tFeatureSpec(dtype=DataType.DOUBLE, name='input_feature_2', nullable=False),\n",
       "  \t\tFeatureSpec(dtype=DataType.DOUBLE, name='input_feature_3', nullable=False),\n",
       "  \t\tFeatureSpec(dtype=DataType.DOUBLE, name='input_feature_4', nullable=False),\n",
       "  \t\tFeatureSpec(dtype=DataType.DOUBLE, name='input_feature_5', nullable=False),\n",
       "  \t\tFeatureSpec(dtype=DataType.DOUBLE, name='input_feature_6', nullable=False),\n",
       "  \t\tFeatureSpec(dtype=DataType.DOUBLE, name='input_feature_7', nullable=False),\n",
       "  \t\tFeatureSpec(dtype=DataType.DOUBLE, name='input_feature_8', nullable=False),\n",
       "  \t\tFeatureSpec(dtype=DataType.DOUBLE, name='input_feature_9', nullable=False),\n",
       "  \t\tFeatureSpec(dtype=DataType.DOUBLE, name='input_feature_10', nullable=False),\n",
       "  \t\tFeatureSpec(dtype=DataType.DOUBLE, name='input_feature_11', nullable=False),\n",
       "  \t\tFeatureSpec(dtype=DataType.DOUBLE, name='input_feature_12', nullable=False),\n",
       "  \t\tFeatureSpec(dtype=DataType.DOUBLE, name='input_feature_13', nullable=False),\n",
       "  \t\tFeatureSpec(dtype=DataType.DOUBLE, name='input_feature_14', nullable=False),\n",
       "  \t\tFeatureSpec(dtype=DataType.DOUBLE, name='input_feature_15', nullable=False),\n",
       "  \t\tFeatureSpec(dtype=DataType.DOUBLE, name='input_feature_16', nullable=False),\n",
       "  \t\tFeatureSpec(dtype=DataType.DOUBLE, name='input_feature_17', nullable=False),\n",
       "  \t\tFeatureSpec(dtype=DataType.DOUBLE, name='input_feature_18', nullable=False),\n",
       "  \t\tFeatureSpec(dtype=DataType.DOUBLE, name='input_feature_19', nullable=False),\n",
       "  \t\tFeatureSpec(dtype=DataType.DOUBLE, name='input_feature_20', nullable=False),\n",
       "  \t\tFeatureSpec(dtype=DataType.DOUBLE, name='input_feature_21', nullable=False),\n",
       "  \t\tFeatureSpec(dtype=DataType.DOUBLE, name='input_feature_22', nullable=False),\n",
       "  \t\tFeatureSpec(dtype=DataType.DOUBLE, name='input_feature_23', nullable=False),\n",
       "  \t\tFeatureSpec(dtype=DataType.DOUBLE, name='input_feature_24', nullable=False),\n",
       "  \t\tFeatureSpec(dtype=DataType.DOUBLE, name='input_feature_25', nullable=False),\n",
       "  \t\tFeatureSpec(dtype=DataType.DOUBLE, name='input_feature_26', nullable=False),\n",
       "  \t\tFeatureSpec(dtype=DataType.DOUBLE, name='input_feature_27', nullable=False),\n",
       "  \t\tFeatureSpec(dtype=DataType.DOUBLE, name='input_feature_28', nullable=False),\n",
       "  \t\tFeatureSpec(dtype=DataType.DOUBLE, name='input_feature_29', nullable=False),\n",
       "  \t\tFeatureSpec(dtype=DataType.DOUBLE, name='input_feature_30', nullable=False),\n",
       "  \t\tFeatureSpec(dtype=DataType.DOUBLE, name='input_feature_31', nullable=False),\n",
       "  \t\tFeatureSpec(dtype=DataType.DOUBLE, name='input_feature_32', nullable=False),\n",
       "  \t\tFeatureSpec(dtype=DataType.DOUBLE, name='input_feature_33', nullable=False),\n",
       "  \t\tFeatureSpec(dtype=DataType.DOUBLE, name='input_feature_34', nullable=False),\n",
       "  \t\tFeatureSpec(dtype=DataType.DOUBLE, name='input_feature_35', nullable=False),\n",
       "  \t\tFeatureSpec(dtype=DataType.DOUBLE, name='input_feature_36', nullable=False),\n",
       "  \t\tFeatureSpec(dtype=DataType.DOUBLE, name='input_feature_37', nullable=False),\n",
       "  \t\tFeatureSpec(dtype=DataType.DOUBLE, name='input_feature_38', nullable=False),\n",
       "  \t\tFeatureSpec(dtype=DataType.DOUBLE, name='input_feature_39', nullable=False),\n",
       "  \t\tFeatureSpec(dtype=DataType.DOUBLE, name='input_feature_40', nullable=False),\n",
       "  \t\tFeatureSpec(dtype=DataType.DOUBLE, name='input_feature_41', nullable=False),\n",
       "  \t\tFeatureSpec(dtype=DataType.DOUBLE, name='input_feature_42', nullable=False),\n",
       "  \t\tFeatureSpec(dtype=DataType.DOUBLE, name='input_feature_43', nullable=False),\n",
       "  \t\tFeatureSpec(dtype=DataType.DOUBLE, name='input_feature_44', nullable=False),\n",
       "  \t\tFeatureSpec(dtype=DataType.DOUBLE, name='input_feature_45', nullable=False),\n",
       "  \t\tFeatureSpec(dtype=DataType.DOUBLE, name='input_feature_46', nullable=False),\n",
       "  \t\tFeatureSpec(dtype=DataType.DOUBLE, name='input_feature_47', nullable=False),\n",
       "  \t\tFeatureSpec(dtype=DataType.DOUBLE, name='input_feature_48', nullable=False),\n",
       "  \t\tFeatureSpec(dtype=DataType.DOUBLE, name='input_feature_49', nullable=False),\n",
       "  \t\tFeatureSpec(dtype=DataType.DOUBLE, name='input_feature_50', nullable=False),\n",
       "  \t\tFeatureSpec(dtype=DataType.DOUBLE, name='input_feature_51', nullable=False),\n",
       "  \t\tFeatureSpec(dtype=DataType.DOUBLE, name='input_feature_52', nullable=False),\n",
       "  \t\tFeatureSpec(dtype=DataType.DOUBLE, name='input_feature_53', nullable=False),\n",
       "  \t\tFeatureSpec(dtype=DataType.DOUBLE, name='input_feature_54', nullable=False),\n",
       "  \t\tFeatureSpec(dtype=DataType.DOUBLE, name='input_feature_55', nullable=False),\n",
       "  \t\tFeatureSpec(dtype=DataType.DOUBLE, name='input_feature_56', nullable=False),\n",
       "  \t\tFeatureSpec(dtype=DataType.DOUBLE, name='input_feature_57', nullable=False),\n",
       "  \t\tFeatureSpec(dtype=DataType.DOUBLE, name='input_feature_58', nullable=False),\n",
       "  \t\tFeatureSpec(dtype=DataType.DOUBLE, name='input_feature_59', nullable=False),\n",
       "  \t\tFeatureSpec(dtype=DataType.DOUBLE, name='input_feature_60', nullable=False),\n",
       "  \t\tFeatureSpec(dtype=DataType.DOUBLE, name='input_feature_61', nullable=False),\n",
       "  \t\tFeatureSpec(dtype=DataType.DOUBLE, name='input_feature_62', nullable=False),\n",
       "  \t\tFeatureSpec(dtype=DataType.DOUBLE, name='input_feature_63', nullable=False)\n",
       "                      ],\n",
       "                      outputs=[\n",
       "                          FeatureSpec(dtype=DataType.DOUBLE, name='input_feature_0_explanation', nullable=True),\n",
       "  \t\tFeatureSpec(dtype=DataType.DOUBLE, name='input_feature_1_explanation', nullable=True),\n",
       "  \t\tFeatureSpec(dtype=DataType.DOUBLE, name='input_feature_2_explanation', nullable=True),\n",
       "  \t\tFeatureSpec(dtype=DataType.DOUBLE, name='input_feature_3_explanation', nullable=True),\n",
       "  \t\tFeatureSpec(dtype=DataType.DOUBLE, name='input_feature_4_explanation', nullable=True),\n",
       "  \t\tFeatureSpec(dtype=DataType.DOUBLE, name='input_feature_5_explanation', nullable=True),\n",
       "  \t\tFeatureSpec(dtype=DataType.DOUBLE, name='input_feature_6_explanation', nullable=True),\n",
       "  \t\tFeatureSpec(dtype=DataType.DOUBLE, name='input_feature_7_explanation', nullable=True),\n",
       "  \t\tFeatureSpec(dtype=DataType.DOUBLE, name='input_feature_8_explanation', nullable=True),\n",
       "  \t\tFeatureSpec(dtype=DataType.DOUBLE, name='input_feature_9_explanation', nullable=True),\n",
       "  \t\tFeatureSpec(dtype=DataType.DOUBLE, name='input_feature_10_explanation', nullable=True),\n",
       "  \t\tFeatureSpec(dtype=DataType.DOUBLE, name='input_feature_11_explanation', nullable=True),\n",
       "  \t\tFeatureSpec(dtype=DataType.DOUBLE, name='input_feature_12_explanation', nullable=True),\n",
       "  \t\tFeatureSpec(dtype=DataType.DOUBLE, name='input_feature_13_explanation', nullable=True),\n",
       "  \t\tFeatureSpec(dtype=DataType.DOUBLE, name='input_feature_14_explanation', nullable=True),\n",
       "  \t\tFeatureSpec(dtype=DataType.DOUBLE, name='input_feature_15_explanation', nullable=True),\n",
       "  \t\tFeatureSpec(dtype=DataType.DOUBLE, name='input_feature_16_explanation', nullable=True),\n",
       "  \t\tFeatureSpec(dtype=DataType.DOUBLE, name='input_feature_17_explanation', nullable=True),\n",
       "  \t\tFeatureSpec(dtype=DataType.DOUBLE, name='input_feature_18_explanation', nullable=True),\n",
       "  \t\tFeatureSpec(dtype=DataType.DOUBLE, name='input_feature_19_explanation', nullable=True),\n",
       "  \t\tFeatureSpec(dtype=DataType.DOUBLE, name='input_feature_20_explanation', nullable=True),\n",
       "  \t\tFeatureSpec(dtype=DataType.DOUBLE, name='input_feature_21_explanation', nullable=True),\n",
       "  \t\tFeatureSpec(dtype=DataType.DOUBLE, name='input_feature_22_explanation', nullable=True),\n",
       "  \t\tFeatureSpec(dtype=DataType.DOUBLE, name='input_feature_23_explanation', nullable=True),\n",
       "  \t\tFeatureSpec(dtype=DataType.DOUBLE, name='input_feature_24_explanation', nullable=True),\n",
       "  \t\tFeatureSpec(dtype=DataType.DOUBLE, name='input_feature_25_explanation', nullable=True),\n",
       "  \t\tFeatureSpec(dtype=DataType.DOUBLE, name='input_feature_26_explanation', nullable=True),\n",
       "  \t\tFeatureSpec(dtype=DataType.DOUBLE, name='input_feature_27_explanation', nullable=True),\n",
       "  \t\tFeatureSpec(dtype=DataType.DOUBLE, name='input_feature_28_explanation', nullable=True),\n",
       "  \t\tFeatureSpec(dtype=DataType.DOUBLE, name='input_feature_29_explanation', nullable=True),\n",
       "  \t\tFeatureSpec(dtype=DataType.DOUBLE, name='input_feature_30_explanation', nullable=True),\n",
       "  \t\tFeatureSpec(dtype=DataType.DOUBLE, name='input_feature_31_explanation', nullable=True),\n",
       "  \t\tFeatureSpec(dtype=DataType.DOUBLE, name='input_feature_32_explanation', nullable=True),\n",
       "  \t\tFeatureSpec(dtype=DataType.DOUBLE, name='input_feature_33_explanation', nullable=True),\n",
       "  \t\tFeatureSpec(dtype=DataType.DOUBLE, name='input_feature_34_explanation', nullable=True),\n",
       "  \t\tFeatureSpec(dtype=DataType.DOUBLE, name='input_feature_35_explanation', nullable=True),\n",
       "  \t\tFeatureSpec(dtype=DataType.DOUBLE, name='input_feature_36_explanation', nullable=True),\n",
       "  \t\tFeatureSpec(dtype=DataType.DOUBLE, name='input_feature_37_explanation', nullable=True),\n",
       "  \t\tFeatureSpec(dtype=DataType.DOUBLE, name='input_feature_38_explanation', nullable=True),\n",
       "  \t\tFeatureSpec(dtype=DataType.DOUBLE, name='input_feature_39_explanation', nullable=True),\n",
       "  \t\tFeatureSpec(dtype=DataType.DOUBLE, name='input_feature_40_explanation', nullable=True),\n",
       "  \t\tFeatureSpec(dtype=DataType.DOUBLE, name='input_feature_41_explanation', nullable=True),\n",
       "  \t\tFeatureSpec(dtype=DataType.DOUBLE, name='input_feature_42_explanation', nullable=True),\n",
       "  \t\tFeatureSpec(dtype=DataType.DOUBLE, name='input_feature_43_explanation', nullable=True),\n",
       "  \t\tFeatureSpec(dtype=DataType.DOUBLE, name='input_feature_44_explanation', nullable=True),\n",
       "  \t\tFeatureSpec(dtype=DataType.DOUBLE, name='input_feature_45_explanation', nullable=True),\n",
       "  \t\tFeatureSpec(dtype=DataType.DOUBLE, name='input_feature_46_explanation', nullable=True),\n",
       "  \t\tFeatureSpec(dtype=DataType.DOUBLE, name='input_feature_47_explanation', nullable=True),\n",
       "  \t\tFeatureSpec(dtype=DataType.DOUBLE, name='input_feature_48_explanation', nullable=True),\n",
       "  \t\tFeatureSpec(dtype=DataType.DOUBLE, name='input_feature_49_explanation', nullable=True),\n",
       "  \t\tFeatureSpec(dtype=DataType.DOUBLE, name='input_feature_50_explanation', nullable=True),\n",
       "  \t\tFeatureSpec(dtype=DataType.DOUBLE, name='input_feature_51_explanation', nullable=True),\n",
       "  \t\tFeatureSpec(dtype=DataType.DOUBLE, name='input_feature_52_explanation', nullable=True),\n",
       "  \t\tFeatureSpec(dtype=DataType.DOUBLE, name='input_feature_53_explanation', nullable=True),\n",
       "  \t\tFeatureSpec(dtype=DataType.DOUBLE, name='input_feature_54_explanation', nullable=True),\n",
       "  \t\tFeatureSpec(dtype=DataType.DOUBLE, name='input_feature_55_explanation', nullable=True),\n",
       "  \t\tFeatureSpec(dtype=DataType.DOUBLE, name='input_feature_56_explanation', nullable=True),\n",
       "  \t\tFeatureSpec(dtype=DataType.DOUBLE, name='input_feature_57_explanation', nullable=True),\n",
       "  \t\tFeatureSpec(dtype=DataType.DOUBLE, name='input_feature_58_explanation', nullable=True),\n",
       "  \t\tFeatureSpec(dtype=DataType.DOUBLE, name='input_feature_59_explanation', nullable=True),\n",
       "  \t\tFeatureSpec(dtype=DataType.DOUBLE, name='input_feature_60_explanation', nullable=True),\n",
       "  \t\tFeatureSpec(dtype=DataType.DOUBLE, name='input_feature_61_explanation', nullable=True),\n",
       "  \t\tFeatureSpec(dtype=DataType.DOUBLE, name='input_feature_62_explanation', nullable=True),\n",
       "  \t\tFeatureSpec(dtype=DataType.DOUBLE, name='input_feature_63_explanation', nullable=True)\n",
       "                      ]\n",
       "                  ),\n",
       "  'is_partitioned': True},\n",
       " {'name': 'PREDICT',\n",
       "  'target_method': 'predict',\n",
       "  'target_method_function_type': 'FUNCTION',\n",
       "  'signature': ModelSignature(\n",
       "                      inputs=[\n",
       "                          FeatureSpec(dtype=DataType.DOUBLE, name='input_feature_0', nullable=False),\n",
       "  \t\tFeatureSpec(dtype=DataType.DOUBLE, name='input_feature_1', nullable=False),\n",
       "  \t\tFeatureSpec(dtype=DataType.DOUBLE, name='input_feature_2', nullable=False),\n",
       "  \t\tFeatureSpec(dtype=DataType.DOUBLE, name='input_feature_3', nullable=False),\n",
       "  \t\tFeatureSpec(dtype=DataType.DOUBLE, name='input_feature_4', nullable=False),\n",
       "  \t\tFeatureSpec(dtype=DataType.DOUBLE, name='input_feature_5', nullable=False),\n",
       "  \t\tFeatureSpec(dtype=DataType.DOUBLE, name='input_feature_6', nullable=False),\n",
       "  \t\tFeatureSpec(dtype=DataType.DOUBLE, name='input_feature_7', nullable=False),\n",
       "  \t\tFeatureSpec(dtype=DataType.DOUBLE, name='input_feature_8', nullable=False),\n",
       "  \t\tFeatureSpec(dtype=DataType.DOUBLE, name='input_feature_9', nullable=False),\n",
       "  \t\tFeatureSpec(dtype=DataType.DOUBLE, name='input_feature_10', nullable=False),\n",
       "  \t\tFeatureSpec(dtype=DataType.DOUBLE, name='input_feature_11', nullable=False),\n",
       "  \t\tFeatureSpec(dtype=DataType.DOUBLE, name='input_feature_12', nullable=False),\n",
       "  \t\tFeatureSpec(dtype=DataType.DOUBLE, name='input_feature_13', nullable=False),\n",
       "  \t\tFeatureSpec(dtype=DataType.DOUBLE, name='input_feature_14', nullable=False),\n",
       "  \t\tFeatureSpec(dtype=DataType.DOUBLE, name='input_feature_15', nullable=False),\n",
       "  \t\tFeatureSpec(dtype=DataType.DOUBLE, name='input_feature_16', nullable=False),\n",
       "  \t\tFeatureSpec(dtype=DataType.DOUBLE, name='input_feature_17', nullable=False),\n",
       "  \t\tFeatureSpec(dtype=DataType.DOUBLE, name='input_feature_18', nullable=False),\n",
       "  \t\tFeatureSpec(dtype=DataType.DOUBLE, name='input_feature_19', nullable=False),\n",
       "  \t\tFeatureSpec(dtype=DataType.DOUBLE, name='input_feature_20', nullable=False),\n",
       "  \t\tFeatureSpec(dtype=DataType.DOUBLE, name='input_feature_21', nullable=False),\n",
       "  \t\tFeatureSpec(dtype=DataType.DOUBLE, name='input_feature_22', nullable=False),\n",
       "  \t\tFeatureSpec(dtype=DataType.DOUBLE, name='input_feature_23', nullable=False),\n",
       "  \t\tFeatureSpec(dtype=DataType.DOUBLE, name='input_feature_24', nullable=False),\n",
       "  \t\tFeatureSpec(dtype=DataType.DOUBLE, name='input_feature_25', nullable=False),\n",
       "  \t\tFeatureSpec(dtype=DataType.DOUBLE, name='input_feature_26', nullable=False),\n",
       "  \t\tFeatureSpec(dtype=DataType.DOUBLE, name='input_feature_27', nullable=False),\n",
       "  \t\tFeatureSpec(dtype=DataType.DOUBLE, name='input_feature_28', nullable=False),\n",
       "  \t\tFeatureSpec(dtype=DataType.DOUBLE, name='input_feature_29', nullable=False),\n",
       "  \t\tFeatureSpec(dtype=DataType.DOUBLE, name='input_feature_30', nullable=False),\n",
       "  \t\tFeatureSpec(dtype=DataType.DOUBLE, name='input_feature_31', nullable=False),\n",
       "  \t\tFeatureSpec(dtype=DataType.DOUBLE, name='input_feature_32', nullable=False),\n",
       "  \t\tFeatureSpec(dtype=DataType.DOUBLE, name='input_feature_33', nullable=False),\n",
       "  \t\tFeatureSpec(dtype=DataType.DOUBLE, name='input_feature_34', nullable=False),\n",
       "  \t\tFeatureSpec(dtype=DataType.DOUBLE, name='input_feature_35', nullable=False),\n",
       "  \t\tFeatureSpec(dtype=DataType.DOUBLE, name='input_feature_36', nullable=False),\n",
       "  \t\tFeatureSpec(dtype=DataType.DOUBLE, name='input_feature_37', nullable=False),\n",
       "  \t\tFeatureSpec(dtype=DataType.DOUBLE, name='input_feature_38', nullable=False),\n",
       "  \t\tFeatureSpec(dtype=DataType.DOUBLE, name='input_feature_39', nullable=False),\n",
       "  \t\tFeatureSpec(dtype=DataType.DOUBLE, name='input_feature_40', nullable=False),\n",
       "  \t\tFeatureSpec(dtype=DataType.DOUBLE, name='input_feature_41', nullable=False),\n",
       "  \t\tFeatureSpec(dtype=DataType.DOUBLE, name='input_feature_42', nullable=False),\n",
       "  \t\tFeatureSpec(dtype=DataType.DOUBLE, name='input_feature_43', nullable=False),\n",
       "  \t\tFeatureSpec(dtype=DataType.DOUBLE, name='input_feature_44', nullable=False),\n",
       "  \t\tFeatureSpec(dtype=DataType.DOUBLE, name='input_feature_45', nullable=False),\n",
       "  \t\tFeatureSpec(dtype=DataType.DOUBLE, name='input_feature_46', nullable=False),\n",
       "  \t\tFeatureSpec(dtype=DataType.DOUBLE, name='input_feature_47', nullable=False),\n",
       "  \t\tFeatureSpec(dtype=DataType.DOUBLE, name='input_feature_48', nullable=False),\n",
       "  \t\tFeatureSpec(dtype=DataType.DOUBLE, name='input_feature_49', nullable=False),\n",
       "  \t\tFeatureSpec(dtype=DataType.DOUBLE, name='input_feature_50', nullable=False),\n",
       "  \t\tFeatureSpec(dtype=DataType.DOUBLE, name='input_feature_51', nullable=False),\n",
       "  \t\tFeatureSpec(dtype=DataType.DOUBLE, name='input_feature_52', nullable=False),\n",
       "  \t\tFeatureSpec(dtype=DataType.DOUBLE, name='input_feature_53', nullable=False),\n",
       "  \t\tFeatureSpec(dtype=DataType.DOUBLE, name='input_feature_54', nullable=False),\n",
       "  \t\tFeatureSpec(dtype=DataType.DOUBLE, name='input_feature_55', nullable=False),\n",
       "  \t\tFeatureSpec(dtype=DataType.DOUBLE, name='input_feature_56', nullable=False),\n",
       "  \t\tFeatureSpec(dtype=DataType.DOUBLE, name='input_feature_57', nullable=False),\n",
       "  \t\tFeatureSpec(dtype=DataType.DOUBLE, name='input_feature_58', nullable=False),\n",
       "  \t\tFeatureSpec(dtype=DataType.DOUBLE, name='input_feature_59', nullable=False),\n",
       "  \t\tFeatureSpec(dtype=DataType.DOUBLE, name='input_feature_60', nullable=False),\n",
       "  \t\tFeatureSpec(dtype=DataType.DOUBLE, name='input_feature_61', nullable=False),\n",
       "  \t\tFeatureSpec(dtype=DataType.DOUBLE, name='input_feature_62', nullable=False),\n",
       "  \t\tFeatureSpec(dtype=DataType.DOUBLE, name='input_feature_63', nullable=False)\n",
       "                      ],\n",
       "                      outputs=[\n",
       "                          FeatureSpec(dtype=DataType.BOOL, name='output_feature_0', nullable=False)\n",
       "                      ]\n",
       "                  ),\n",
       "  'is_partitioned': False},\n",
       " {'name': 'PREDICT_LOG_PROBA',\n",
       "  'target_method': 'predict_log_proba',\n",
       "  'target_method_function_type': 'FUNCTION',\n",
       "  'signature': ModelSignature(\n",
       "                      inputs=[\n",
       "                          FeatureSpec(dtype=DataType.DOUBLE, name='input_feature_0', nullable=False),\n",
       "  \t\tFeatureSpec(dtype=DataType.DOUBLE, name='input_feature_1', nullable=False),\n",
       "  \t\tFeatureSpec(dtype=DataType.DOUBLE, name='input_feature_2', nullable=False),\n",
       "  \t\tFeatureSpec(dtype=DataType.DOUBLE, name='input_feature_3', nullable=False),\n",
       "  \t\tFeatureSpec(dtype=DataType.DOUBLE, name='input_feature_4', nullable=False),\n",
       "  \t\tFeatureSpec(dtype=DataType.DOUBLE, name='input_feature_5', nullable=False),\n",
       "  \t\tFeatureSpec(dtype=DataType.DOUBLE, name='input_feature_6', nullable=False),\n",
       "  \t\tFeatureSpec(dtype=DataType.DOUBLE, name='input_feature_7', nullable=False),\n",
       "  \t\tFeatureSpec(dtype=DataType.DOUBLE, name='input_feature_8', nullable=False),\n",
       "  \t\tFeatureSpec(dtype=DataType.DOUBLE, name='input_feature_9', nullable=False),\n",
       "  \t\tFeatureSpec(dtype=DataType.DOUBLE, name='input_feature_10', nullable=False),\n",
       "  \t\tFeatureSpec(dtype=DataType.DOUBLE, name='input_feature_11', nullable=False),\n",
       "  \t\tFeatureSpec(dtype=DataType.DOUBLE, name='input_feature_12', nullable=False),\n",
       "  \t\tFeatureSpec(dtype=DataType.DOUBLE, name='input_feature_13', nullable=False),\n",
       "  \t\tFeatureSpec(dtype=DataType.DOUBLE, name='input_feature_14', nullable=False),\n",
       "  \t\tFeatureSpec(dtype=DataType.DOUBLE, name='input_feature_15', nullable=False),\n",
       "  \t\tFeatureSpec(dtype=DataType.DOUBLE, name='input_feature_16', nullable=False),\n",
       "  \t\tFeatureSpec(dtype=DataType.DOUBLE, name='input_feature_17', nullable=False),\n",
       "  \t\tFeatureSpec(dtype=DataType.DOUBLE, name='input_feature_18', nullable=False),\n",
       "  \t\tFeatureSpec(dtype=DataType.DOUBLE, name='input_feature_19', nullable=False),\n",
       "  \t\tFeatureSpec(dtype=DataType.DOUBLE, name='input_feature_20', nullable=False),\n",
       "  \t\tFeatureSpec(dtype=DataType.DOUBLE, name='input_feature_21', nullable=False),\n",
       "  \t\tFeatureSpec(dtype=DataType.DOUBLE, name='input_feature_22', nullable=False),\n",
       "  \t\tFeatureSpec(dtype=DataType.DOUBLE, name='input_feature_23', nullable=False),\n",
       "  \t\tFeatureSpec(dtype=DataType.DOUBLE, name='input_feature_24', nullable=False),\n",
       "  \t\tFeatureSpec(dtype=DataType.DOUBLE, name='input_feature_25', nullable=False),\n",
       "  \t\tFeatureSpec(dtype=DataType.DOUBLE, name='input_feature_26', nullable=False),\n",
       "  \t\tFeatureSpec(dtype=DataType.DOUBLE, name='input_feature_27', nullable=False),\n",
       "  \t\tFeatureSpec(dtype=DataType.DOUBLE, name='input_feature_28', nullable=False),\n",
       "  \t\tFeatureSpec(dtype=DataType.DOUBLE, name='input_feature_29', nullable=False),\n",
       "  \t\tFeatureSpec(dtype=DataType.DOUBLE, name='input_feature_30', nullable=False),\n",
       "  \t\tFeatureSpec(dtype=DataType.DOUBLE, name='input_feature_31', nullable=False),\n",
       "  \t\tFeatureSpec(dtype=DataType.DOUBLE, name='input_feature_32', nullable=False),\n",
       "  \t\tFeatureSpec(dtype=DataType.DOUBLE, name='input_feature_33', nullable=False),\n",
       "  \t\tFeatureSpec(dtype=DataType.DOUBLE, name='input_feature_34', nullable=False),\n",
       "  \t\tFeatureSpec(dtype=DataType.DOUBLE, name='input_feature_35', nullable=False),\n",
       "  \t\tFeatureSpec(dtype=DataType.DOUBLE, name='input_feature_36', nullable=False),\n",
       "  \t\tFeatureSpec(dtype=DataType.DOUBLE, name='input_feature_37', nullable=False),\n",
       "  \t\tFeatureSpec(dtype=DataType.DOUBLE, name='input_feature_38', nullable=False),\n",
       "  \t\tFeatureSpec(dtype=DataType.DOUBLE, name='input_feature_39', nullable=False),\n",
       "  \t\tFeatureSpec(dtype=DataType.DOUBLE, name='input_feature_40', nullable=False),\n",
       "  \t\tFeatureSpec(dtype=DataType.DOUBLE, name='input_feature_41', nullable=False),\n",
       "  \t\tFeatureSpec(dtype=DataType.DOUBLE, name='input_feature_42', nullable=False),\n",
       "  \t\tFeatureSpec(dtype=DataType.DOUBLE, name='input_feature_43', nullable=False),\n",
       "  \t\tFeatureSpec(dtype=DataType.DOUBLE, name='input_feature_44', nullable=False),\n",
       "  \t\tFeatureSpec(dtype=DataType.DOUBLE, name='input_feature_45', nullable=False),\n",
       "  \t\tFeatureSpec(dtype=DataType.DOUBLE, name='input_feature_46', nullable=False),\n",
       "  \t\tFeatureSpec(dtype=DataType.DOUBLE, name='input_feature_47', nullable=False),\n",
       "  \t\tFeatureSpec(dtype=DataType.DOUBLE, name='input_feature_48', nullable=False),\n",
       "  \t\tFeatureSpec(dtype=DataType.DOUBLE, name='input_feature_49', nullable=False),\n",
       "  \t\tFeatureSpec(dtype=DataType.DOUBLE, name='input_feature_50', nullable=False),\n",
       "  \t\tFeatureSpec(dtype=DataType.DOUBLE, name='input_feature_51', nullable=False),\n",
       "  \t\tFeatureSpec(dtype=DataType.DOUBLE, name='input_feature_52', nullable=False),\n",
       "  \t\tFeatureSpec(dtype=DataType.DOUBLE, name='input_feature_53', nullable=False),\n",
       "  \t\tFeatureSpec(dtype=DataType.DOUBLE, name='input_feature_54', nullable=False),\n",
       "  \t\tFeatureSpec(dtype=DataType.DOUBLE, name='input_feature_55', nullable=False),\n",
       "  \t\tFeatureSpec(dtype=DataType.DOUBLE, name='input_feature_56', nullable=False),\n",
       "  \t\tFeatureSpec(dtype=DataType.DOUBLE, name='input_feature_57', nullable=False),\n",
       "  \t\tFeatureSpec(dtype=DataType.DOUBLE, name='input_feature_58', nullable=False),\n",
       "  \t\tFeatureSpec(dtype=DataType.DOUBLE, name='input_feature_59', nullable=False),\n",
       "  \t\tFeatureSpec(dtype=DataType.DOUBLE, name='input_feature_60', nullable=False),\n",
       "  \t\tFeatureSpec(dtype=DataType.DOUBLE, name='input_feature_61', nullable=False),\n",
       "  \t\tFeatureSpec(dtype=DataType.DOUBLE, name='input_feature_62', nullable=False),\n",
       "  \t\tFeatureSpec(dtype=DataType.DOUBLE, name='input_feature_63', nullable=False)\n",
       "                      ],\n",
       "                      outputs=[\n",
       "                          FeatureSpec(dtype=DataType.DOUBLE, name='output_feature_0', nullable=False),\n",
       "  \t\tFeatureSpec(dtype=DataType.DOUBLE, name='output_feature_1', nullable=False)\n",
       "                      ]\n",
       "                  ),\n",
       "  'is_partitioned': False},\n",
       " {'name': 'PREDICT_PROBA',\n",
       "  'target_method': 'predict_proba',\n",
       "  'target_method_function_type': 'FUNCTION',\n",
       "  'signature': ModelSignature(\n",
       "                      inputs=[\n",
       "                          FeatureSpec(dtype=DataType.DOUBLE, name='input_feature_0', nullable=False),\n",
       "  \t\tFeatureSpec(dtype=DataType.DOUBLE, name='input_feature_1', nullable=False),\n",
       "  \t\tFeatureSpec(dtype=DataType.DOUBLE, name='input_feature_2', nullable=False),\n",
       "  \t\tFeatureSpec(dtype=DataType.DOUBLE, name='input_feature_3', nullable=False),\n",
       "  \t\tFeatureSpec(dtype=DataType.DOUBLE, name='input_feature_4', nullable=False),\n",
       "  \t\tFeatureSpec(dtype=DataType.DOUBLE, name='input_feature_5', nullable=False),\n",
       "  \t\tFeatureSpec(dtype=DataType.DOUBLE, name='input_feature_6', nullable=False),\n",
       "  \t\tFeatureSpec(dtype=DataType.DOUBLE, name='input_feature_7', nullable=False),\n",
       "  \t\tFeatureSpec(dtype=DataType.DOUBLE, name='input_feature_8', nullable=False),\n",
       "  \t\tFeatureSpec(dtype=DataType.DOUBLE, name='input_feature_9', nullable=False),\n",
       "  \t\tFeatureSpec(dtype=DataType.DOUBLE, name='input_feature_10', nullable=False),\n",
       "  \t\tFeatureSpec(dtype=DataType.DOUBLE, name='input_feature_11', nullable=False),\n",
       "  \t\tFeatureSpec(dtype=DataType.DOUBLE, name='input_feature_12', nullable=False),\n",
       "  \t\tFeatureSpec(dtype=DataType.DOUBLE, name='input_feature_13', nullable=False),\n",
       "  \t\tFeatureSpec(dtype=DataType.DOUBLE, name='input_feature_14', nullable=False),\n",
       "  \t\tFeatureSpec(dtype=DataType.DOUBLE, name='input_feature_15', nullable=False),\n",
       "  \t\tFeatureSpec(dtype=DataType.DOUBLE, name='input_feature_16', nullable=False),\n",
       "  \t\tFeatureSpec(dtype=DataType.DOUBLE, name='input_feature_17', nullable=False),\n",
       "  \t\tFeatureSpec(dtype=DataType.DOUBLE, name='input_feature_18', nullable=False),\n",
       "  \t\tFeatureSpec(dtype=DataType.DOUBLE, name='input_feature_19', nullable=False),\n",
       "  \t\tFeatureSpec(dtype=DataType.DOUBLE, name='input_feature_20', nullable=False),\n",
       "  \t\tFeatureSpec(dtype=DataType.DOUBLE, name='input_feature_21', nullable=False),\n",
       "  \t\tFeatureSpec(dtype=DataType.DOUBLE, name='input_feature_22', nullable=False),\n",
       "  \t\tFeatureSpec(dtype=DataType.DOUBLE, name='input_feature_23', nullable=False),\n",
       "  \t\tFeatureSpec(dtype=DataType.DOUBLE, name='input_feature_24', nullable=False),\n",
       "  \t\tFeatureSpec(dtype=DataType.DOUBLE, name='input_feature_25', nullable=False),\n",
       "  \t\tFeatureSpec(dtype=DataType.DOUBLE, name='input_feature_26', nullable=False),\n",
       "  \t\tFeatureSpec(dtype=DataType.DOUBLE, name='input_feature_27', nullable=False),\n",
       "  \t\tFeatureSpec(dtype=DataType.DOUBLE, name='input_feature_28', nullable=False),\n",
       "  \t\tFeatureSpec(dtype=DataType.DOUBLE, name='input_feature_29', nullable=False),\n",
       "  \t\tFeatureSpec(dtype=DataType.DOUBLE, name='input_feature_30', nullable=False),\n",
       "  \t\tFeatureSpec(dtype=DataType.DOUBLE, name='input_feature_31', nullable=False),\n",
       "  \t\tFeatureSpec(dtype=DataType.DOUBLE, name='input_feature_32', nullable=False),\n",
       "  \t\tFeatureSpec(dtype=DataType.DOUBLE, name='input_feature_33', nullable=False),\n",
       "  \t\tFeatureSpec(dtype=DataType.DOUBLE, name='input_feature_34', nullable=False),\n",
       "  \t\tFeatureSpec(dtype=DataType.DOUBLE, name='input_feature_35', nullable=False),\n",
       "  \t\tFeatureSpec(dtype=DataType.DOUBLE, name='input_feature_36', nullable=False),\n",
       "  \t\tFeatureSpec(dtype=DataType.DOUBLE, name='input_feature_37', nullable=False),\n",
       "  \t\tFeatureSpec(dtype=DataType.DOUBLE, name='input_feature_38', nullable=False),\n",
       "  \t\tFeatureSpec(dtype=DataType.DOUBLE, name='input_feature_39', nullable=False),\n",
       "  \t\tFeatureSpec(dtype=DataType.DOUBLE, name='input_feature_40', nullable=False),\n",
       "  \t\tFeatureSpec(dtype=DataType.DOUBLE, name='input_feature_41', nullable=False),\n",
       "  \t\tFeatureSpec(dtype=DataType.DOUBLE, name='input_feature_42', nullable=False),\n",
       "  \t\tFeatureSpec(dtype=DataType.DOUBLE, name='input_feature_43', nullable=False),\n",
       "  \t\tFeatureSpec(dtype=DataType.DOUBLE, name='input_feature_44', nullable=False),\n",
       "  \t\tFeatureSpec(dtype=DataType.DOUBLE, name='input_feature_45', nullable=False),\n",
       "  \t\tFeatureSpec(dtype=DataType.DOUBLE, name='input_feature_46', nullable=False),\n",
       "  \t\tFeatureSpec(dtype=DataType.DOUBLE, name='input_feature_47', nullable=False),\n",
       "  \t\tFeatureSpec(dtype=DataType.DOUBLE, name='input_feature_48', nullable=False),\n",
       "  \t\tFeatureSpec(dtype=DataType.DOUBLE, name='input_feature_49', nullable=False),\n",
       "  \t\tFeatureSpec(dtype=DataType.DOUBLE, name='input_feature_50', nullable=False),\n",
       "  \t\tFeatureSpec(dtype=DataType.DOUBLE, name='input_feature_51', nullable=False),\n",
       "  \t\tFeatureSpec(dtype=DataType.DOUBLE, name='input_feature_52', nullable=False),\n",
       "  \t\tFeatureSpec(dtype=DataType.DOUBLE, name='input_feature_53', nullable=False),\n",
       "  \t\tFeatureSpec(dtype=DataType.DOUBLE, name='input_feature_54', nullable=False),\n",
       "  \t\tFeatureSpec(dtype=DataType.DOUBLE, name='input_feature_55', nullable=False),\n",
       "  \t\tFeatureSpec(dtype=DataType.DOUBLE, name='input_feature_56', nullable=False),\n",
       "  \t\tFeatureSpec(dtype=DataType.DOUBLE, name='input_feature_57', nullable=False),\n",
       "  \t\tFeatureSpec(dtype=DataType.DOUBLE, name='input_feature_58', nullable=False),\n",
       "  \t\tFeatureSpec(dtype=DataType.DOUBLE, name='input_feature_59', nullable=False),\n",
       "  \t\tFeatureSpec(dtype=DataType.DOUBLE, name='input_feature_60', nullable=False),\n",
       "  \t\tFeatureSpec(dtype=DataType.DOUBLE, name='input_feature_61', nullable=False),\n",
       "  \t\tFeatureSpec(dtype=DataType.DOUBLE, name='input_feature_62', nullable=False),\n",
       "  \t\tFeatureSpec(dtype=DataType.DOUBLE, name='input_feature_63', nullable=False)\n",
       "                      ],\n",
       "                      outputs=[\n",
       "                          FeatureSpec(dtype=DataType.DOUBLE, name='output_feature_0', nullable=False),\n",
       "  \t\tFeatureSpec(dtype=DataType.DOUBLE, name='output_feature_1', nullable=False)\n",
       "                      ]\n",
       "                  ),\n",
       "  'is_partitioned': False}]"
      ]
     },
     "execution_count": 14,
     "metadata": {},
     "output_type": "execute_result"
    }
   ],
   "source": [
    "mv.show_functions()"
   ]
  },
  {
   "cell_type": "code",
   "execution_count": 15,
   "metadata": {},
   "outputs": [],
   "source": [
    "remote_prediction_proba = mv.run(test_features, function_name=\"predict_proba\")"
   ]
  },
  {
   "cell_type": "code",
   "execution_count": 16,
   "metadata": {},
   "outputs": [
    {
     "name": "stdout",
     "output_type": "stream",
     "text": [
      "Remote prediction:    output_feature_0  output_feature_1\n",
      "0          0.841229          0.158771\n",
      "1          0.760812          0.239188\n",
      "2          0.877963          0.122037\n",
      "3          0.857520          0.142480\n",
      "4          0.991256          0.008744\n",
      "5          0.858447          0.141553\n",
      "6          0.903426          0.096574\n",
      "7          0.775303          0.224697\n",
      "8          0.885768          0.114232\n",
      "9          0.754318          0.245682\n",
      "Result comparison: True\n"
     ]
    }
   ],
   "source": [
    "prediction_proba = clf.predict_proba(test_features)\n",
    "\n",
    "print(\"Remote prediction:\", remote_prediction_proba[:10])\n",
    "\n",
    "print(\"Result comparison:\", np.allclose(prediction_proba, remote_prediction_proba.values))"
   ]
  },
  {
   "cell_type": "markdown",
   "metadata": {},
   "source": [
    "### Get the model and version\n"
   ]
  },
  {
   "cell_type": "markdown",
   "metadata": {},
   "source": [
    "After the model being logged, beside using the returned object, there are other APIs for you to get the object to operate on model or model version.\n"
   ]
  },
  {
   "cell_type": "code",
   "execution_count": 17,
   "metadata": {},
   "outputs": [],
   "source": [
    "m = reg.get_model(model_name)"
   ]
  },
  {
   "cell_type": "code",
   "execution_count": 18,
   "metadata": {},
   "outputs": [],
   "source": [
    "mv = m.version(version_name)"
   ]
  },
  {
   "cell_type": "markdown",
   "metadata": {},
   "source": [
    "### Show and List models and versions"
   ]
  },
  {
   "cell_type": "code",
   "execution_count": 19,
   "metadata": {},
   "outputs": [
    {
     "data": {
      "application/vnd.microsoft.datawrangler.viewer.v0+json": {
       "columns": [
        {
         "name": "index",
         "rawType": "int64",
         "type": "integer"
        },
        {
         "name": "created_on",
         "rawType": "datetime64[ns, America/Los_Angeles]",
         "type": "unknown"
        },
        {
         "name": "name",
         "rawType": "object",
         "type": "string"
        },
        {
         "name": "model_type",
         "rawType": "object",
         "type": "string"
        },
        {
         "name": "database_name",
         "rawType": "object",
         "type": "string"
        },
        {
         "name": "schema_name",
         "rawType": "object",
         "type": "string"
        },
        {
         "name": "comment",
         "rawType": "object",
         "type": "unknown"
        },
        {
         "name": "owner",
         "rawType": "object",
         "type": "string"
        },
        {
         "name": "default_version_name",
         "rawType": "object",
         "type": "string"
        },
        {
         "name": "versions",
         "rawType": "object",
         "type": "string"
        },
        {
         "name": "aliases",
         "rawType": "object",
         "type": "string"
        }
       ],
       "conversionMethod": "pd.DataFrame",
       "ref": "8096d1e2-873d-4456-b908-a7e54865ee98",
       "rows": [
        [
         "0",
         "2025-05-02 09:18:00.687000-07:00",
         "MY_MODEL",
         "USER_MODEL",
         "MY_REGISTRY",
         "PUBLIC",
         null,
         "ENGINEER",
         "V1",
         "[\"V1\"]",
         "{\"DEFAULT\":\"V1\",\"FIRST\":\"V1\",\"LAST\":\"V1\"}"
        ]
       ],
       "shape": {
        "columns": 10,
        "rows": 1
       }
      },
      "text/html": [
       "<div>\n",
       "<style scoped>\n",
       "    .dataframe tbody tr th:only-of-type {\n",
       "        vertical-align: middle;\n",
       "    }\n",
       "\n",
       "    .dataframe tbody tr th {\n",
       "        vertical-align: top;\n",
       "    }\n",
       "\n",
       "    .dataframe thead th {\n",
       "        text-align: right;\n",
       "    }\n",
       "</style>\n",
       "<table border=\"1\" class=\"dataframe\">\n",
       "  <thead>\n",
       "    <tr style=\"text-align: right;\">\n",
       "      <th></th>\n",
       "      <th>created_on</th>\n",
       "      <th>name</th>\n",
       "      <th>model_type</th>\n",
       "      <th>database_name</th>\n",
       "      <th>schema_name</th>\n",
       "      <th>comment</th>\n",
       "      <th>owner</th>\n",
       "      <th>default_version_name</th>\n",
       "      <th>versions</th>\n",
       "      <th>aliases</th>\n",
       "    </tr>\n",
       "  </thead>\n",
       "  <tbody>\n",
       "    <tr>\n",
       "      <th>0</th>\n",
       "      <td>2025-05-02 09:18:00.687000-07:00</td>\n",
       "      <td>MY_MODEL</td>\n",
       "      <td>USER_MODEL</td>\n",
       "      <td>MY_REGISTRY</td>\n",
       "      <td>PUBLIC</td>\n",
       "      <td>None</td>\n",
       "      <td>ENGINEER</td>\n",
       "      <td>V1</td>\n",
       "      <td>[\"V1\"]</td>\n",
       "      <td>{\"DEFAULT\":\"V1\",\"FIRST\":\"V1\",\"LAST\":\"V1\"}</td>\n",
       "    </tr>\n",
       "  </tbody>\n",
       "</table>\n",
       "</div>"
      ],
      "text/plain": [
       "                        created_on      name  model_type database_name  \\\n",
       "0 2025-05-02 09:18:00.687000-07:00  MY_MODEL  USER_MODEL   MY_REGISTRY   \n",
       "\n",
       "  schema_name comment     owner default_version_name versions  \\\n",
       "0      PUBLIC    None  ENGINEER                   V1   [\"V1\"]   \n",
       "\n",
       "                                     aliases  \n",
       "0  {\"DEFAULT\":\"V1\",\"FIRST\":\"V1\",\"LAST\":\"V1\"}  "
      ]
     },
     "execution_count": 19,
     "metadata": {},
     "output_type": "execute_result"
    }
   ],
   "source": [
    "reg.show_models()"
   ]
  },
  {
   "cell_type": "code",
   "execution_count": 20,
   "metadata": {},
   "outputs": [
    {
     "data": {
      "text/plain": [
       "[<snowflake.ml.model._client.model.model_impl.Model at 0x35192b290>]"
      ]
     },
     "execution_count": 20,
     "metadata": {},
     "output_type": "execute_result"
    }
   ],
   "source": [
    "reg.models()"
   ]
  },
  {
   "cell_type": "code",
   "execution_count": 21,
   "metadata": {},
   "outputs": [
    {
     "data": {
      "application/vnd.microsoft.datawrangler.viewer.v0+json": {
       "columns": [
        {
         "name": "index",
         "rawType": "int64",
         "type": "integer"
        },
        {
         "name": "created_on",
         "rawType": "datetime64[ns, America/Los_Angeles]",
         "type": "unknown"
        },
        {
         "name": "name",
         "rawType": "object",
         "type": "string"
        },
        {
         "name": "aliases",
         "rawType": "object",
         "type": "string"
        },
        {
         "name": "comment",
         "rawType": "object",
         "type": "unknown"
        },
        {
         "name": "database_name",
         "rawType": "object",
         "type": "string"
        },
        {
         "name": "schema_name",
         "rawType": "object",
         "type": "string"
        },
        {
         "name": "model_name",
         "rawType": "object",
         "type": "string"
        },
        {
         "name": "is_default_version",
         "rawType": "object",
         "type": "string"
        },
        {
         "name": "functions",
         "rawType": "object",
         "type": "string"
        },
        {
         "name": "metadata",
         "rawType": "object",
         "type": "string"
        },
        {
         "name": "user_data",
         "rawType": "object",
         "type": "string"
        },
        {
         "name": "model_attributes",
         "rawType": "object",
         "type": "string"
        },
        {
         "name": "size",
         "rawType": "int64",
         "type": "integer"
        },
        {
         "name": "environment",
         "rawType": "object",
         "type": "string"
        },
        {
         "name": "runnable_in",
         "rawType": "object",
         "type": "string"
        },
        {
         "name": "inference_services",
         "rawType": "object",
         "type": "string"
        },
        {
         "name": "model_spec",
         "rawType": "object",
         "type": "string"
        }
       ],
       "conversionMethod": "pd.DataFrame",
       "ref": "536fd5a3-bbfa-4df6-a1ec-173f391c1850",
       "rows": [
        [
         "0",
         "2025-05-02 09:18:00.703000-07:00",
         "V1",
         "[\"DEFAULT\",\"FIRST\",\"LAST\"]",
         null,
         "MY_REGISTRY",
         "PUBLIC",
         "MY_MODEL",
         "true",
         "[\"PREDICT_PROBA\",\"EXPLAIN\",\"PREDICT\",\"DECISION_FUNCTION\",\"PREDICT_LOG_PROBA\"]",
         "{}",
         "{}",
         "{\"framework\":\"sklearn\",\"task\":\"TABULAR_BINARY_CLASSIFICATION\",\"client\":\"snowflake-ml-python 1.8.2\"}",
         "103625",
         "{\"default\":{\"python_version\":\"3.11\",\"snowflake-ml-python_version\":\"1.8.2\",\"has_pip_requirements\":false,\"conda_channels\":[\"https://repo.anaconda.com/pkgs/snowflake\",\"nodefaults\"],\"has_pip_artifact_repository\":false}}",
         "[\"WAREHOUSE\",\"SNOWPARK_CONTAINER_SERVICES\"]",
         "[]",
         "creation_timestamp: '2025-05-02 16:18:19.158648'\nenv:\n  artifact_repository_map: {}\n  conda: env/conda.yml\n  cuda_version: null\n  pip: env/requirements.txt\n  python_version: '3.11'\n  resource_constraint: {}\n  snowpark_ml_version: 1.8.2\nexplainability:\n  algorithm: shap\nfunction_properties: {}\nmetadata: null\nmin_snowpark_ml_version: 1.0.12\nmodel_type: sklearn\nmodels:\n  MY_MODEL:\n    artifacts: {}\n    function_properties: {}\n    handler_version: '2023-12-01'\n    model_type: sklearn\n    name: MY_MODEL\n    options: {}\n    path: model.pkl\nname: MY_MODEL\nruntimes:\n  cpu:\n    dependencies:\n      artifact_repository_map: {}\n      conda: runtimes/cpu/env/conda.yml\n      pip: runtimes/cpu/env/requirements.txt\n    imports: []\n    resource_constraint: {}\nsignatures:\n  decision_function:\n    inputs:\n    - name: input_feature_0\n      nullable: false\n      type: DOUBLE\n    - name: input_feature_1\n      nullable: false\n      type: DOUBLE\n    - name: input_feature_2\n      nullable: false\n      type: DOUBLE\n    - name: input_feature_3\n      nullable: false\n      type: DOUBLE\n    - name: input_feature_4\n      nullable: false\n      type: DOUBLE\n    - name: input_feature_5\n      nullable: false\n      type: DOUBLE\n    - name: input_feature_6\n      nullable: false\n      type: DOUBLE\n    - name: input_feature_7\n      nullable: false\n      type: DOUBLE\n    - name: input_feature_8\n      nullable: false\n      type: DOUBLE\n    - name: input_feature_9\n      nullable: false\n      type: DOUBLE\n    - name: input_feature_10\n      nullable: false\n      type: DOUBLE\n    - name: input_feature_11\n      nullable: false\n      type: DOUBLE\n    - name: input_feature_12\n      nullable: false\n      type: DOUBLE\n    - name: input_feature_13\n      nullable: false\n      type: DOUBLE\n    - name: input_feature_14\n      nullable: false\n      type: DOUBLE\n    - name: input_feature_15\n      nullable: false\n      type: DOUBLE\n    - name: input_feature_16\n      nullable: false\n      type: DOUBLE\n    - name: input_feature_17\n      nullable: false\n      type: DOUBLE\n    - name: input_feature_18\n      nullable: false\n      type: DOUBLE\n    - name: input_feature_19\n      nullable: false\n      type: DOUBLE\n    - name: input_feature_20\n      nullable: false\n      type: DOUBLE\n    - name: input_feature_21\n      nullable: false\n      type: DOUBLE\n    - name: input_feature_22\n      nullable: false\n      type: DOUBLE\n    - name: input_feature_23\n      nullable: false\n      type: DOUBLE\n    - name: input_feature_24\n      nullable: false\n      type: DOUBLE\n    - name: input_feature_25\n      nullable: false\n      type: DOUBLE\n    - name: input_feature_26\n      nullable: false\n      type: DOUBLE\n    - name: input_feature_27\n      nullable: false\n      type: DOUBLE\n    - name: input_feature_28\n      nullable: false\n      type: DOUBLE\n    - name: input_feature_29\n      nullable: false\n      type: DOUBLE\n    - name: input_feature_30\n      nullable: false\n      type: DOUBLE\n    - name: input_feature_31\n      nullable: false\n      type: DOUBLE\n    - name: input_feature_32\n      nullable: false\n      type: DOUBLE\n    - name: input_feature_33\n      nullable: false\n      type: DOUBLE\n    - name: input_feature_34\n      nullable: false\n      type: DOUBLE\n    - name: input_feature_35\n      nullable: false\n      type: DOUBLE\n    - name: input_feature_36\n      nullable: false\n      type: DOUBLE\n    - name: input_feature_37\n      nullable: false\n      type: DOUBLE\n    - name: input_feature_38\n      nullable: false\n      type: DOUBLE\n    - name: input_feature_39\n      nullable: false\n      type: DOUBLE\n    - name: input_feature_40\n      nullable: false\n      type: DOUBLE\n    - name: input_feature_41\n      nullable: false\n      type: DOUBLE\n    - name: input_feature_42\n      nullable: false\n      type: DOUBLE\n    - name: input_feature_43\n      nullable: false\n      type: DOUBLE\n    - name: input_feature_44\n      nullable: false\n      type: DOUBLE\n    - name: input_feature_45\n      nullable: false\n      type: DOUBLE\n    - name: input_feature_46\n      nullable: false\n      type: DOUBLE\n    - name: input_feature_47\n      nullable: false\n      type: DOUBLE\n    - name: input_feature_48\n      nullable: false\n      type: DOUBLE\n    - name: input_feature_49\n      nullable: false\n      type: DOUBLE\n    - name: input_feature_50\n      nullable: false\n      type: DOUBLE\n    - name: input_feature_51\n      nullable: false\n      type: DOUBLE\n    - name: input_feature_52\n      nullable: false\n      type: DOUBLE\n    - name: input_feature_53\n      nullable: false\n      type: DOUBLE\n    - name: input_feature_54\n      nullable: false\n      type: DOUBLE\n    - name: input_feature_55\n      nullable: false\n      type: DOUBLE\n    - name: input_feature_56\n      nullable: false\n      type: DOUBLE\n    - name: input_feature_57\n      nullable: false\n      type: DOUBLE\n    - name: input_feature_58\n      nullable: false\n      type: DOUBLE\n    - name: input_feature_59\n      nullable: false\n      type: DOUBLE\n    - name: input_feature_60\n      nullable: false\n      type: DOUBLE\n    - name: input_feature_61\n      nullable: false\n      type: DOUBLE\n    - name: input_feature_62\n      nullable: false\n      type: DOUBLE\n    - name: input_feature_63\n      nullable: false\n      type: DOUBLE\n    outputs:\n    - name: output_feature_0\n      nullable: false\n      type: DOUBLE\n  explain:\n    inputs:\n    - name: input_feature_0\n      nullable: false\n      type: DOUBLE\n    - name: input_feature_1\n      nullable: false\n      type: DOUBLE\n    - name: input_feature_2\n      nullable: false\n      type: DOUBLE\n    - name: input_feature_3\n      nullable: false\n      type: DOUBLE\n    - name: input_feature_4\n      nullable: false\n      type: DOUBLE\n    - name: input_feature_5\n      nullable: false\n      type: DOUBLE\n    - name: input_feature_6\n      nullable: false\n      type: DOUBLE\n    - name: input_feature_7\n      nullable: false\n      type: DOUBLE\n    - name: input_feature_8\n      nullable: false\n      type: DOUBLE\n    - name: input_feature_9\n      nullable: false\n      type: DOUBLE\n    - name: input_feature_10\n      nullable: false\n      type: DOUBLE\n    - name: input_feature_11\n      nullable: false\n      type: DOUBLE\n    - name: input_feature_12\n      nullable: false\n      type: DOUBLE\n    - name: input_feature_13\n      nullable: false\n      type: DOUBLE\n    - name: input_feature_14\n      nullable: false\n      type: DOUBLE\n    - name: input_feature_15\n      nullable: false\n      type: DOUBLE\n    - name: input_feature_16\n      nullable: false\n      type: DOUBLE\n    - name: input_feature_17\n      nullable: false\n      type: DOUBLE\n    - name: input_feature_18\n      nullable: false\n      type: DOUBLE\n    - name: input_feature_19\n      nullable: false\n      type: DOUBLE\n    - name: input_feature_20\n      nullable: false\n      type: DOUBLE\n    - name: input_feature_21\n      nullable: false\n      type: DOUBLE\n    - name: input_feature_22\n      nullable: false\n      type: DOUBLE\n    - name: input_feature_23\n      nullable: false\n      type: DOUBLE\n    - name: input_feature_24\n      nullable: false\n      type: DOUBLE\n    - name: input_feature_25\n      nullable: false\n      type: DOUBLE\n    - name: input_feature_26\n      nullable: false\n      type: DOUBLE\n    - name: input_feature_27\n      nullable: false\n      type: DOUBLE\n    - name: input_feature_28\n      nullable: false\n      type: DOUBLE\n    - name: input_feature_29\n      nullable: false\n      type: DOUBLE\n    - name: input_feature_30\n      nullable: false\n      type: DOUBLE\n    - name: input_feature_31\n      nullable: false\n      type: DOUBLE\n    - name: input_feature_32\n      nullable: false\n      type: DOUBLE\n    - name: input_feature_33\n      nullable: false\n      type: DOUBLE\n    - name: input_feature_34\n      nullable: false\n      type: DOUBLE\n    - name: input_feature_35\n      nullable: false\n      type: DOUBLE\n    - name: input_feature_36\n      nullable: false\n      type: DOUBLE\n    - name: input_feature_37\n      nullable: false\n      type: DOUBLE\n    - name: input_feature_38\n      nullable: false\n      type: DOUBLE\n    - name: input_feature_39\n      nullable: false\n      type: DOUBLE\n    - name: input_feature_40\n      nullable: false\n      type: DOUBLE\n    - name: input_feature_41\n      nullable: false\n      type: DOUBLE\n    - name: input_feature_42\n      nullable: false\n      type: DOUBLE\n    - name: input_feature_43\n      nullable: false\n      type: DOUBLE\n    - name: input_feature_44\n      nullable: false\n      type: DOUBLE\n    - name: input_feature_45\n      nullable: false\n      type: DOUBLE\n    - name: input_feature_46\n      nullable: false\n      type: DOUBLE\n    - name: input_feature_47\n      nullable: false\n      type: DOUBLE\n    - name: input_feature_48\n      nullable: false\n      type: DOUBLE\n    - name: input_feature_49\n      nullable: false\n      type: DOUBLE\n    - name: input_feature_50\n      nullable: false\n      type: DOUBLE\n    - name: input_feature_51\n      nullable: false\n      type: DOUBLE\n    - name: input_feature_52\n      nullable: false\n      type: DOUBLE\n    - name: input_feature_53\n      nullable: false\n      type: DOUBLE\n    - name: input_feature_54\n      nullable: false\n      type: DOUBLE\n    - name: input_feature_55\n      nullable: false\n      type: DOUBLE\n    - name: input_feature_56\n      nullable: false\n      type: DOUBLE\n    - name: input_feature_57\n      nullable: false\n      type: DOUBLE\n    - name: input_feature_58\n      nullable: false\n      type: DOUBLE\n    - name: input_feature_59\n      nullable: false\n      type: DOUBLE\n    - name: input_feature_60\n      nullable: false\n      type: DOUBLE\n    - name: input_feature_61\n      nullable: false\n      type: DOUBLE\n    - name: input_feature_62\n      nullable: false\n      type: DOUBLE\n    - name: input_feature_63\n      nullable: false\n      type: DOUBLE\n    outputs:\n    - name: input_feature_0_explanation\n      nullable: true\n      type: DOUBLE\n    - name: input_feature_1_explanation\n      nullable: true\n      type: DOUBLE\n    - name: input_feature_2_explanation\n      nullable: true\n      type: DOUBLE\n    - name: input_feature_3_explanation\n      nullable: true\n      type: DOUBLE\n    - name: input_feature_4_explanation\n      nullable: true\n      type: DOUBLE\n    - name: input_feature_5_explanation\n      nullable: true\n      type: DOUBLE\n    - name: input_feature_6_explanation\n      nullable: true\n      type: DOUBLE\n    - name: input_feature_7_explanation\n      nullable: true\n      type: DOUBLE\n    - name: input_feature_8_explanation\n      nullable: true\n      type: DOUBLE\n    - name: input_feature_9_explanation\n      nullable: true\n      type: DOUBLE\n    - name: input_feature_10_explanation\n      nullable: true\n      type: DOUBLE\n    - name: input_feature_11_explanation\n      nullable: true\n      type: DOUBLE\n    - name: input_feature_12_explanation\n      nullable: true\n      type: DOUBLE\n    - name: input_feature_13_explanation\n      nullable: true\n      type: DOUBLE\n    - name: input_feature_14_explanation\n      nullable: true\n      type: DOUBLE\n    - name: input_feature_15_explanation\n      nullable: true\n      type: DOUBLE\n    - name: input_feature_16_explanation\n      nullable: true\n      type: DOUBLE\n    - name: input_feature_17_explanation\n      nullable: true\n      type: DOUBLE\n    - name: input_feature_18_explanation\n      nullable: true\n      type: DOUBLE\n    - name: input_feature_19_explanation\n      nullable: true\n      type: DOUBLE\n    - name: input_feature_20_explanation\n      nullable: true\n      type: DOUBLE\n    - name: input_feature_21_explanation\n      nullable: true\n      type: DOUBLE\n    - name: input_feature_22_explanation\n      nullable: true\n      type: DOUBLE\n    - name: input_feature_23_explanation\n      nullable: true\n      type: DOUBLE\n    - name: input_feature_24_explanation\n      nullable: true\n      type: DOUBLE\n    - name: input_feature_25_explanation\n      nullable: true\n      type: DOUBLE\n    - name: input_feature_26_explanation\n      nullable: true\n      type: DOUBLE\n    - name: input_feature_27_explanation\n      nullable: true\n      type: DOUBLE\n    - name: input_feature_28_explanation\n      nullable: true\n      type: DOUBLE\n    - name: input_feature_29_explanation\n      nullable: true\n      type: DOUBLE\n    - name: input_feature_30_explanation\n      nullable: true\n      type: DOUBLE\n    - name: input_feature_31_explanation\n      nullable: true\n      type: DOUBLE\n    - name: input_feature_32_explanation\n      nullable: true\n      type: DOUBLE\n    - name: input_feature_33_explanation\n      nullable: true\n      type: DOUBLE\n    - name: input_feature_34_explanation\n      nullable: true\n      type: DOUBLE\n    - name: input_feature_35_explanation\n      nullable: true\n      type: DOUBLE\n    - name: input_feature_36_explanation\n      nullable: true\n      type: DOUBLE\n    - name: input_feature_37_explanation\n      nullable: true\n      type: DOUBLE\n    - name: input_feature_38_explanation\n      nullable: true\n      type: DOUBLE\n    - name: input_feature_39_explanation\n      nullable: true\n      type: DOUBLE\n    - name: input_feature_40_explanation\n      nullable: true\n      type: DOUBLE\n    - name: input_feature_41_explanation\n      nullable: true\n      type: DOUBLE\n    - name: input_feature_42_explanation\n      nullable: true\n      type: DOUBLE\n    - name: input_feature_43_explanation\n      nullable: true\n      type: DOUBLE\n    - name: input_feature_44_explanation\n      nullable: true\n      type: DOUBLE\n    - name: input_feature_45_explanation\n      nullable: true\n      type: DOUBLE\n    - name: input_feature_46_explanation\n      nullable: true\n      type: DOUBLE\n    - name: input_feature_47_explanation\n      nullable: true\n      type: DOUBLE\n    - name: input_feature_48_explanation\n      nullable: true\n      type: DOUBLE\n    - name: input_feature_49_explanation\n      nullable: true\n      type: DOUBLE\n    - name: input_feature_50_explanation\n      nullable: true\n      type: DOUBLE\n    - name: input_feature_51_explanation\n      nullable: true\n      type: DOUBLE\n    - name: input_feature_52_explanation\n      nullable: true\n      type: DOUBLE\n    - name: input_feature_53_explanation\n      nullable: true\n      type: DOUBLE\n    - name: input_feature_54_explanation\n      nullable: true\n      type: DOUBLE\n    - name: input_feature_55_explanation\n      nullable: true\n      type: DOUBLE\n    - name: input_feature_56_explanation\n      nullable: true\n      type: DOUBLE\n    - name: input_feature_57_explanation\n      nullable: true\n      type: DOUBLE\n    - name: input_feature_58_explanation\n      nullable: true\n      type: DOUBLE\n    - name: input_feature_59_explanation\n      nullable: true\n      type: DOUBLE\n    - name: input_feature_60_explanation\n      nullable: true\n      type: DOUBLE\n    - name: input_feature_61_explanation\n      nullable: true\n      type: DOUBLE\n    - name: input_feature_62_explanation\n      nullable: true\n      type: DOUBLE\n    - name: input_feature_63_explanation\n      nullable: true\n      type: DOUBLE\n  predict:\n    inputs:\n    - name: input_feature_0\n      nullable: false\n      type: DOUBLE\n    - name: input_feature_1\n      nullable: false\n      type: DOUBLE\n    - name: input_feature_2\n      nullable: false\n      type: DOUBLE\n    - name: input_feature_3\n      nullable: false\n      type: DOUBLE\n    - name: input_feature_4\n      nullable: false\n      type: DOUBLE\n    - name: input_feature_5\n      nullable: false\n      type: DOUBLE\n    - name: input_feature_6\n      nullable: false\n      type: DOUBLE\n    - name: input_feature_7\n      nullable: false\n      type: DOUBLE\n    - name: input_feature_8\n      nullable: false\n      type: DOUBLE\n    - name: input_feature_9\n      nullable: false\n      type: DOUBLE\n    - name: input_feature_10\n      nullable: false\n      type: DOUBLE\n    - name: input_feature_11\n      nullable: false\n      type: DOUBLE\n    - name: input_feature_12\n      nullable: false\n      type: DOUBLE\n    - name: input_feature_13\n      nullable: false\n      type: DOUBLE\n    - name: input_feature_14\n      nullable: false\n      type: DOUBLE\n    - name: input_feature_15\n      nullable: false\n      type: DOUBLE\n    - name: input_feature_16\n      nullable: false\n      type: DOUBLE\n    - name: input_feature_17\n      nullable: false\n      type: DOUBLE\n    - name: input_feature_18\n      nullable: false\n      type: DOUBLE\n    - name: input_feature_19\n      nullable: false\n      type: DOUBLE\n    - name: input_feature_20\n      nullable: false\n      type: DOUBLE\n    - name: input_feature_21\n      nullable: false\n      type: DOUBLE\n    - name: input_feature_22\n      nullable: false\n      type: DOUBLE\n    - name: input_feature_23\n      nullable: false\n      type: DOUBLE\n    - name: input_feature_24\n      nullable: false\n      type: DOUBLE\n    - name: input_feature_25\n      nullable: false\n      type: DOUBLE\n    - name: input_feature_26\n      nullable: false\n      type: DOUBLE\n    - name: input_feature_27\n      nullable: false\n      type: DOUBLE\n    - name: input_feature_28\n      nullable: false\n      type: DOUBLE\n    - name: input_feature_29\n      nullable: false\n      type: DOUBLE\n    - name: input_feature_30\n      nullable: false\n      type: DOUBLE\n    - name: input_feature_31\n      nullable: false\n      type: DOUBLE\n    - name: input_feature_32\n      nullable: false\n      type: DOUBLE\n    - name: input_feature_33\n      nullable: false\n      type: DOUBLE\n    - name: input_feature_34\n      nullable: false\n      type: DOUBLE\n    - name: input_feature_35\n      nullable: false\n      type: DOUBLE\n    - name: input_feature_36\n      nullable: false\n      type: DOUBLE\n    - name: input_feature_37\n      nullable: false\n      type: DOUBLE\n    - name: input_feature_38\n      nullable: false\n      type: DOUBLE\n    - name: input_feature_39\n      nullable: false\n      type: DOUBLE\n    - name: input_feature_40\n      nullable: false\n      type: DOUBLE\n    - name: input_feature_41\n      nullable: false\n      type: DOUBLE\n    - name: input_feature_42\n      nullable: false\n      type: DOUBLE\n    - name: input_feature_43\n      nullable: false\n      type: DOUBLE\n    - name: input_feature_44\n      nullable: false\n      type: DOUBLE\n    - name: input_feature_45\n      nullable: false\n      type: DOUBLE\n    - name: input_feature_46\n      nullable: false\n      type: DOUBLE\n    - name: input_feature_47\n      nullable: false\n      type: DOUBLE\n    - name: input_feature_48\n      nullable: false\n      type: DOUBLE\n    - name: input_feature_49\n      nullable: false\n      type: DOUBLE\n    - name: input_feature_50\n      nullable: false\n      type: DOUBLE\n    - name: input_feature_51\n      nullable: false\n      type: DOUBLE\n    - name: input_feature_52\n      nullable: false\n      type: DOUBLE\n    - name: input_feature_53\n      nullable: false\n      type: DOUBLE\n    - name: input_feature_54\n      nullable: false\n      type: DOUBLE\n    - name: input_feature_55\n      nullable: false\n      type: DOUBLE\n    - name: input_feature_56\n      nullable: false\n      type: DOUBLE\n    - name: input_feature_57\n      nullable: false\n      type: DOUBLE\n    - name: input_feature_58\n      nullable: false\n      type: DOUBLE\n    - name: input_feature_59\n      nullable: false\n      type: DOUBLE\n    - name: input_feature_60\n      nullable: false\n      type: DOUBLE\n    - name: input_feature_61\n      nullable: false\n      type: DOUBLE\n    - name: input_feature_62\n      nullable: false\n      type: DOUBLE\n    - name: input_feature_63\n      nullable: false\n      type: DOUBLE\n    outputs:\n    - name: output_feature_0\n      nullable: false\n      type: BOOL\n  predict_log_proba:\n    inputs:\n    - name: input_feature_0\n      nullable: false\n      type: DOUBLE\n    - name: input_feature_1\n      nullable: false\n      type: DOUBLE\n    - name: input_feature_2\n      nullable: false\n      type: DOUBLE\n    - name: input_feature_3\n      nullable: false\n      type: DOUBLE\n    - name: input_feature_4\n      nullable: false\n      type: DOUBLE\n    - name: input_feature_5\n      nullable: false\n      type: DOUBLE\n    - name: input_feature_6\n      nullable: false\n      type: DOUBLE\n    - name: input_feature_7\n      nullable: false\n      type: DOUBLE\n    - name: input_feature_8\n      nullable: false\n      type: DOUBLE\n    - name: input_feature_9\n      nullable: false\n      type: DOUBLE\n    - name: input_feature_10\n      nullable: false\n      type: DOUBLE\n    - name: input_feature_11\n      nullable: false\n      type: DOUBLE\n    - name: input_feature_12\n      nullable: false\n      type: DOUBLE\n    - name: input_feature_13\n      nullable: false\n      type: DOUBLE\n    - name: input_feature_14\n      nullable: false\n      type: DOUBLE\n    - name: input_feature_15\n      nullable: false\n      type: DOUBLE\n    - name: input_feature_16\n      nullable: false\n      type: DOUBLE\n    - name: input_feature_17\n      nullable: false\n      type: DOUBLE\n    - name: input_feature_18\n      nullable: false\n      type: DOUBLE\n    - name: input_feature_19\n      nullable: false\n      type: DOUBLE\n    - name: input_feature_20\n      nullable: false\n      type: DOUBLE\n    - name: input_feature_21\n      nullable: false\n      type: DOUBLE\n    - name: input_feature_22\n      nullable: false\n      type: DOUBLE\n    - name: input_feature_23\n      nullable: false\n      type: DOUBLE\n    - name: input_feature_24\n      nullable: false\n      type: DOUBLE\n    - name: input_feature_25\n      nullable: false\n      type: DOUBLE\n    - name: input_feature_26\n      nullable: false\n      type: DOUBLE\n    - name: input_feature_27\n      nullable: false\n      type: DOUBLE\n    - name: input_feature_28\n      nullable: false\n      type: DOUBLE\n    - name: input_feature_29\n      nullable: false\n      type: DOUBLE\n    - name: input_feature_30\n      nullable: false\n      type: DOUBLE\n    - name: input_feature_31\n      nullable: false\n      type: DOUBLE\n    - name: input_feature_32\n      nullable: false\n      type: DOUBLE\n    - name: input_feature_33\n      nullable: false\n      type: DOUBLE\n    - name: input_feature_34\n      nullable: false\n      type: DOUBLE\n    - name: input_feature_35\n      nullable: false\n      type: DOUBLE\n    - name: input_feature_36\n      nullable: false\n      type: DOUBLE\n    - name: input_feature_37\n      nullable: false\n      type: DOUBLE\n    - name: input_feature_38\n      nullable: false\n      type: DOUBLE\n    - name: input_feature_39\n      nullable: false\n      type: DOUBLE\n    - name: input_feature_40\n      nullable: false\n      type: DOUBLE\n    - name: input_feature_41\n      nullable: false\n      type: DOUBLE\n    - name: input_feature_42\n      nullable: false\n      type: DOUBLE\n    - name: input_feature_43\n      nullable: false\n      type: DOUBLE\n    - name: input_feature_44\n      nullable: false\n      type: DOUBLE\n    - name: input_feature_45\n      nullable: false\n      type: DOUBLE\n    - name: input_feature_46\n      nullable: false\n      type: DOUBLE\n    - name: input_feature_47\n      nullable: false\n      type: DOUBLE\n    - name: input_feature_48\n      nullable: false\n      type: DOUBLE\n    - name: input_feature_49\n      nullable: false\n      type: DOUBLE\n    - name: input_feature_50\n      nullable: false\n      type: DOUBLE\n    - name: input_feature_51\n      nullable: false\n      type: DOUBLE\n    - name: input_feature_52\n      nullable: false\n      type: DOUBLE\n    - name: input_feature_53\n      nullable: false\n      type: DOUBLE\n    - name: input_feature_54\n      nullable: false\n      type: DOUBLE\n    - name: input_feature_55\n      nullable: false\n      type: DOUBLE\n    - name: input_feature_56\n      nullable: false\n      type: DOUBLE\n    - name: input_feature_57\n      nullable: false\n      type: DOUBLE\n    - name: input_feature_58\n      nullable: false\n      type: DOUBLE\n    - name: input_feature_59\n      nullable: false\n      type: DOUBLE\n    - name: input_feature_60\n      nullable: false\n      type: DOUBLE\n    - name: input_feature_61\n      nullable: false\n      type: DOUBLE\n    - name: input_feature_62\n      nullable: false\n      type: DOUBLE\n    - name: input_feature_63\n      nullable: false\n      type: DOUBLE\n    outputs:\n    - name: output_feature_0\n      nullable: false\n      type: DOUBLE\n    - name: output_feature_1\n      nullable: false\n      type: DOUBLE\n  predict_proba:\n    inputs:\n    - name: input_feature_0\n      nullable: false\n      type: DOUBLE\n    - name: input_feature_1\n      nullable: false\n      type: DOUBLE\n    - name: input_feature_2\n      nullable: false\n      type: DOUBLE\n    - name: input_feature_3\n      nullable: false\n      type: DOUBLE\n    - name: input_feature_4\n      nullable: false\n      type: DOUBLE\n    - name: input_feature_5\n      nullable: false\n      type: DOUBLE\n    - name: input_feature_6\n      nullable: false\n      type: DOUBLE\n    - name: input_feature_7\n      nullable: false\n      type: DOUBLE\n    - name: input_feature_8\n      nullable: false\n      type: DOUBLE\n    - name: input_feature_9\n      nullable: false\n      type: DOUBLE\n    - name: input_feature_10\n      nullable: false\n      type: DOUBLE\n    - name: input_feature_11\n      nullable: false\n      type: DOUBLE\n    - name: input_feature_12\n      nullable: false\n      type: DOUBLE\n    - name: input_feature_13\n      nullable: false\n      type: DOUBLE\n    - name: input_feature_14\n      nullable: false\n      type: DOUBLE\n    - name: input_feature_15\n      nullable: false\n      type: DOUBLE\n    - name: input_feature_16\n      nullable: false\n      type: DOUBLE\n    - name: input_feature_17\n      nullable: false\n      type: DOUBLE\n    - name: input_feature_18\n      nullable: false\n      type: DOUBLE\n    - name: input_feature_19\n      nullable: false\n      type: DOUBLE\n    - name: input_feature_20\n      nullable: false\n      type: DOUBLE\n    - name: input_feature_21\n      nullable: false\n      type: DOUBLE\n    - name: input_feature_22\n      nullable: false\n      type: DOUBLE\n    - name: input_feature_23\n      nullable: false\n      type: DOUBLE\n    - name: input_feature_24\n      nullable: false\n      type: DOUBLE\n    - name: input_feature_25\n      nullable: false\n      type: DOUBLE\n    - name: input_feature_26\n      nullable: false\n      type: DOUBLE\n    - name: input_feature_27\n      nullable: false\n      type: DOUBLE\n    - name: input_feature_28\n      nullable: false\n      type: DOUBLE\n    - name: input_feature_29\n      nullable: false\n      type: DOUBLE\n    - name: input_feature_30\n      nullable: false\n      type: DOUBLE\n    - name: input_feature_31\n      nullable: false\n      type: DOUBLE\n    - name: input_feature_32\n      nullable: false\n      type: DOUBLE\n    - name: input_feature_33\n      nullable: false\n      type: DOUBLE\n    - name: input_feature_34\n      nullable: false\n      type: DOUBLE\n    - name: input_feature_35\n      nullable: false\n      type: DOUBLE\n    - name: input_feature_36\n      nullable: false\n      type: DOUBLE\n    - name: input_feature_37\n      nullable: false\n      type: DOUBLE\n    - name: input_feature_38\n      nullable: false\n      type: DOUBLE\n    - name: input_feature_39\n      nullable: false\n      type: DOUBLE\n    - name: input_feature_40\n      nullable: false\n      type: DOUBLE\n    - name: input_feature_41\n      nullable: false\n      type: DOUBLE\n    - name: input_feature_42\n      nullable: false\n      type: DOUBLE\n    - name: input_feature_43\n      nullable: false\n      type: DOUBLE\n    - name: input_feature_44\n      nullable: false\n      type: DOUBLE\n    - name: input_feature_45\n      nullable: false\n      type: DOUBLE\n    - name: input_feature_46\n      nullable: false\n      type: DOUBLE\n    - name: input_feature_47\n      nullable: false\n      type: DOUBLE\n    - name: input_feature_48\n      nullable: false\n      type: DOUBLE\n    - name: input_feature_49\n      nullable: false\n      type: DOUBLE\n    - name: input_feature_50\n      nullable: false\n      type: DOUBLE\n    - name: input_feature_51\n      nullable: false\n      type: DOUBLE\n    - name: input_feature_52\n      nullable: false\n      type: DOUBLE\n    - name: input_feature_53\n      nullable: false\n      type: DOUBLE\n    - name: input_feature_54\n      nullable: false\n      type: DOUBLE\n    - name: input_feature_55\n      nullable: false\n      type: DOUBLE\n    - name: input_feature_56\n      nullable: false\n      type: DOUBLE\n    - name: input_feature_57\n      nullable: false\n      type: DOUBLE\n    - name: input_feature_58\n      nullable: false\n      type: DOUBLE\n    - name: input_feature_59\n      nullable: false\n      type: DOUBLE\n    - name: input_feature_60\n      nullable: false\n      type: DOUBLE\n    - name: input_feature_61\n      nullable: false\n      type: DOUBLE\n    - name: input_feature_62\n      nullable: false\n      type: DOUBLE\n    - name: input_feature_63\n      nullable: false\n      type: DOUBLE\n    outputs:\n    - name: output_feature_0\n      nullable: false\n      type: DOUBLE\n    - name: output_feature_1\n      nullable: false\n      type: DOUBLE\ntask: TABULAR_BINARY_CLASSIFICATION\nversion: '2023-12-01'\n"
        ]
       ],
       "shape": {
        "columns": 17,
        "rows": 1
       }
      },
      "text/html": [
       "<div>\n",
       "<style scoped>\n",
       "    .dataframe tbody tr th:only-of-type {\n",
       "        vertical-align: middle;\n",
       "    }\n",
       "\n",
       "    .dataframe tbody tr th {\n",
       "        vertical-align: top;\n",
       "    }\n",
       "\n",
       "    .dataframe thead th {\n",
       "        text-align: right;\n",
       "    }\n",
       "</style>\n",
       "<table border=\"1\" class=\"dataframe\">\n",
       "  <thead>\n",
       "    <tr style=\"text-align: right;\">\n",
       "      <th></th>\n",
       "      <th>created_on</th>\n",
       "      <th>name</th>\n",
       "      <th>aliases</th>\n",
       "      <th>comment</th>\n",
       "      <th>database_name</th>\n",
       "      <th>schema_name</th>\n",
       "      <th>model_name</th>\n",
       "      <th>is_default_version</th>\n",
       "      <th>functions</th>\n",
       "      <th>metadata</th>\n",
       "      <th>user_data</th>\n",
       "      <th>model_attributes</th>\n",
       "      <th>size</th>\n",
       "      <th>environment</th>\n",
       "      <th>runnable_in</th>\n",
       "      <th>inference_services</th>\n",
       "      <th>model_spec</th>\n",
       "    </tr>\n",
       "  </thead>\n",
       "  <tbody>\n",
       "    <tr>\n",
       "      <th>0</th>\n",
       "      <td>2025-05-02 09:18:00.703000-07:00</td>\n",
       "      <td>V1</td>\n",
       "      <td>[\"DEFAULT\",\"FIRST\",\"LAST\"]</td>\n",
       "      <td>None</td>\n",
       "      <td>MY_REGISTRY</td>\n",
       "      <td>PUBLIC</td>\n",
       "      <td>MY_MODEL</td>\n",
       "      <td>true</td>\n",
       "      <td>[\"PREDICT_PROBA\",\"EXPLAIN\",\"PREDICT\",\"DECISION...</td>\n",
       "      <td>{}</td>\n",
       "      <td>{}</td>\n",
       "      <td>{\"framework\":\"sklearn\",\"task\":\"TABULAR_BINARY_...</td>\n",
       "      <td>103625</td>\n",
       "      <td>{\"default\":{\"python_version\":\"3.11\",\"snowflake...</td>\n",
       "      <td>[\"WAREHOUSE\",\"SNOWPARK_CONTAINER_SERVICES\"]</td>\n",
       "      <td>[]</td>\n",
       "      <td>creation_timestamp: '2025-05-02 16:18:19.15864...</td>\n",
       "    </tr>\n",
       "  </tbody>\n",
       "</table>\n",
       "</div>"
      ],
      "text/plain": [
       "                        created_on name                     aliases comment  \\\n",
       "0 2025-05-02 09:18:00.703000-07:00   V1  [\"DEFAULT\",\"FIRST\",\"LAST\"]    None   \n",
       "\n",
       "  database_name schema_name model_name is_default_version  \\\n",
       "0   MY_REGISTRY      PUBLIC   MY_MODEL               true   \n",
       "\n",
       "                                           functions metadata user_data  \\\n",
       "0  [\"PREDICT_PROBA\",\"EXPLAIN\",\"PREDICT\",\"DECISION...       {}        {}   \n",
       "\n",
       "                                    model_attributes    size  \\\n",
       "0  {\"framework\":\"sklearn\",\"task\":\"TABULAR_BINARY_...  103625   \n",
       "\n",
       "                                         environment  \\\n",
       "0  {\"default\":{\"python_version\":\"3.11\",\"snowflake...   \n",
       "\n",
       "                                   runnable_in inference_services  \\\n",
       "0  [\"WAREHOUSE\",\"SNOWPARK_CONTAINER_SERVICES\"]                 []   \n",
       "\n",
       "                                          model_spec  \n",
       "0  creation_timestamp: '2025-05-02 16:18:19.15864...  "
      ]
     },
     "execution_count": 21,
     "metadata": {},
     "output_type": "execute_result"
    }
   ],
   "source": [
    "m.show_versions()"
   ]
  },
  {
   "cell_type": "code",
   "execution_count": 22,
   "metadata": {},
   "outputs": [
    {
     "data": {
      "text/plain": [
       "[ModelVersion(\n",
       "   name='MY_MODEL',\n",
       "   version='V1',\n",
       " )]"
      ]
     },
     "execution_count": 22,
     "metadata": {},
     "output_type": "execute_result"
    }
   ],
   "source": [
    "m.versions()"
   ]
  },
  {
   "cell_type": "markdown",
   "metadata": {},
   "source": [
    "### Model Description\n"
   ]
  },
  {
   "cell_type": "markdown",
   "metadata": {},
   "source": [
    "You could set description of a model or a specific version of the model. They are backend by COMMENT feature in the SQL.\n"
   ]
  },
  {
   "cell_type": "code",
   "execution_count": 23,
   "metadata": {},
   "outputs": [
    {
     "name": "stdout",
     "output_type": "stream",
     "text": [
      "This is my model.\n"
     ]
    }
   ],
   "source": [
    "m.description = \"This is my model.\"\n",
    "print(m.description)"
   ]
  },
  {
   "cell_type": "code",
   "execution_count": 24,
   "metadata": {},
   "outputs": [
    {
     "data": {
      "application/vnd.microsoft.datawrangler.viewer.v0+json": {
       "columns": [
        {
         "name": "index",
         "rawType": "int64",
         "type": "integer"
        },
        {
         "name": "created_on",
         "rawType": "datetime64[ns, America/Los_Angeles]",
         "type": "unknown"
        },
        {
         "name": "name",
         "rawType": "object",
         "type": "string"
        },
        {
         "name": "model_type",
         "rawType": "object",
         "type": "string"
        },
        {
         "name": "database_name",
         "rawType": "object",
         "type": "string"
        },
        {
         "name": "schema_name",
         "rawType": "object",
         "type": "string"
        },
        {
         "name": "comment",
         "rawType": "object",
         "type": "string"
        },
        {
         "name": "owner",
         "rawType": "object",
         "type": "string"
        },
        {
         "name": "default_version_name",
         "rawType": "object",
         "type": "string"
        },
        {
         "name": "versions",
         "rawType": "object",
         "type": "string"
        },
        {
         "name": "aliases",
         "rawType": "object",
         "type": "string"
        }
       ],
       "conversionMethod": "pd.DataFrame",
       "ref": "01616864-630e-486e-ad25-b121e7da7263",
       "rows": [
        [
         "0",
         "2025-05-02 09:18:00.687000-07:00",
         "MY_MODEL",
         "USER_MODEL",
         "MY_REGISTRY",
         "PUBLIC",
         "This is my model.",
         "ENGINEER",
         "V1",
         "[\"V1\"]",
         "{\"DEFAULT\":\"V1\",\"FIRST\":\"V1\",\"LAST\":\"V1\"}"
        ]
       ],
       "shape": {
        "columns": 10,
        "rows": 1
       }
      },
      "text/html": [
       "<div>\n",
       "<style scoped>\n",
       "    .dataframe tbody tr th:only-of-type {\n",
       "        vertical-align: middle;\n",
       "    }\n",
       "\n",
       "    .dataframe tbody tr th {\n",
       "        vertical-align: top;\n",
       "    }\n",
       "\n",
       "    .dataframe thead th {\n",
       "        text-align: right;\n",
       "    }\n",
       "</style>\n",
       "<table border=\"1\" class=\"dataframe\">\n",
       "  <thead>\n",
       "    <tr style=\"text-align: right;\">\n",
       "      <th></th>\n",
       "      <th>created_on</th>\n",
       "      <th>name</th>\n",
       "      <th>model_type</th>\n",
       "      <th>database_name</th>\n",
       "      <th>schema_name</th>\n",
       "      <th>comment</th>\n",
       "      <th>owner</th>\n",
       "      <th>default_version_name</th>\n",
       "      <th>versions</th>\n",
       "      <th>aliases</th>\n",
       "    </tr>\n",
       "  </thead>\n",
       "  <tbody>\n",
       "    <tr>\n",
       "      <th>0</th>\n",
       "      <td>2025-05-02 09:18:00.687000-07:00</td>\n",
       "      <td>MY_MODEL</td>\n",
       "      <td>USER_MODEL</td>\n",
       "      <td>MY_REGISTRY</td>\n",
       "      <td>PUBLIC</td>\n",
       "      <td>This is my model.</td>\n",
       "      <td>ENGINEER</td>\n",
       "      <td>V1</td>\n",
       "      <td>[\"V1\"]</td>\n",
       "      <td>{\"DEFAULT\":\"V1\",\"FIRST\":\"V1\",\"LAST\":\"V1\"}</td>\n",
       "    </tr>\n",
       "  </tbody>\n",
       "</table>\n",
       "</div>"
      ],
      "text/plain": [
       "                        created_on      name  model_type database_name  \\\n",
       "0 2025-05-02 09:18:00.687000-07:00  MY_MODEL  USER_MODEL   MY_REGISTRY   \n",
       "\n",
       "  schema_name            comment     owner default_version_name versions  \\\n",
       "0      PUBLIC  This is my model.  ENGINEER                   V1   [\"V1\"]   \n",
       "\n",
       "                                     aliases  \n",
       "0  {\"DEFAULT\":\"V1\",\"FIRST\":\"V1\",\"LAST\":\"V1\"}  "
      ]
     },
     "execution_count": 24,
     "metadata": {},
     "output_type": "execute_result"
    }
   ],
   "source": [
    "reg.show_models()"
   ]
  },
  {
   "cell_type": "code",
   "execution_count": 25,
   "metadata": {},
   "outputs": [
    {
     "name": "stdout",
     "output_type": "stream",
     "text": [
      "This is the first version of my model.\n"
     ]
    }
   ],
   "source": [
    "mv.description = \"This is the first version of my model.\"\n",
    "print(mv.description)"
   ]
  },
  {
   "cell_type": "code",
   "execution_count": 26,
   "metadata": {},
   "outputs": [
    {
     "data": {
      "application/vnd.microsoft.datawrangler.viewer.v0+json": {
       "columns": [
        {
         "name": "index",
         "rawType": "int64",
         "type": "integer"
        },
        {
         "name": "created_on",
         "rawType": "datetime64[ns, America/Los_Angeles]",
         "type": "unknown"
        },
        {
         "name": "name",
         "rawType": "object",
         "type": "string"
        },
        {
         "name": "aliases",
         "rawType": "object",
         "type": "string"
        },
        {
         "name": "comment",
         "rawType": "object",
         "type": "string"
        },
        {
         "name": "database_name",
         "rawType": "object",
         "type": "string"
        },
        {
         "name": "schema_name",
         "rawType": "object",
         "type": "string"
        },
        {
         "name": "model_name",
         "rawType": "object",
         "type": "string"
        },
        {
         "name": "is_default_version",
         "rawType": "object",
         "type": "string"
        },
        {
         "name": "functions",
         "rawType": "object",
         "type": "string"
        },
        {
         "name": "metadata",
         "rawType": "object",
         "type": "string"
        },
        {
         "name": "user_data",
         "rawType": "object",
         "type": "string"
        },
        {
         "name": "model_attributes",
         "rawType": "object",
         "type": "string"
        },
        {
         "name": "size",
         "rawType": "int64",
         "type": "integer"
        },
        {
         "name": "environment",
         "rawType": "object",
         "type": "string"
        },
        {
         "name": "runnable_in",
         "rawType": "object",
         "type": "string"
        },
        {
         "name": "inference_services",
         "rawType": "object",
         "type": "string"
        },
        {
         "name": "model_spec",
         "rawType": "object",
         "type": "string"
        }
       ],
       "conversionMethod": "pd.DataFrame",
       "ref": "96e61cf5-0fa0-46ec-988d-69a8e58a4c7f",
       "rows": [
        [
         "0",
         "2025-05-02 09:18:00.703000-07:00",
         "V1",
         "[\"DEFAULT\",\"FIRST\",\"LAST\"]",
         "This is the first version of my model.",
         "MY_REGISTRY",
         "PUBLIC",
         "MY_MODEL",
         "true",
         "[\"PREDICT_PROBA\",\"EXPLAIN\",\"PREDICT\",\"DECISION_FUNCTION\",\"PREDICT_LOG_PROBA\"]",
         "{}",
         "{}",
         "{\"framework\":\"sklearn\",\"task\":\"TABULAR_BINARY_CLASSIFICATION\",\"client\":\"snowflake-ml-python 1.8.2\"}",
         "103625",
         "{\"default\":{\"python_version\":\"3.11\",\"snowflake-ml-python_version\":\"1.8.2\",\"has_pip_requirements\":false,\"conda_channels\":[\"https://repo.anaconda.com/pkgs/snowflake\",\"nodefaults\"],\"has_pip_artifact_repository\":false}}",
         "[\"WAREHOUSE\",\"SNOWPARK_CONTAINER_SERVICES\"]",
         "[]",
         "creation_timestamp: '2025-05-02 16:18:19.158648'\nenv:\n  artifact_repository_map: {}\n  conda: env/conda.yml\n  cuda_version: null\n  pip: env/requirements.txt\n  python_version: '3.11'\n  resource_constraint: {}\n  snowpark_ml_version: 1.8.2\nexplainability:\n  algorithm: shap\nfunction_properties: {}\nmetadata: null\nmin_snowpark_ml_version: 1.0.12\nmodel_type: sklearn\nmodels:\n  MY_MODEL:\n    artifacts: {}\n    function_properties: {}\n    handler_version: '2023-12-01'\n    model_type: sklearn\n    name: MY_MODEL\n    options: {}\n    path: model.pkl\nname: MY_MODEL\nruntimes:\n  cpu:\n    dependencies:\n      artifact_repository_map: {}\n      conda: runtimes/cpu/env/conda.yml\n      pip: runtimes/cpu/env/requirements.txt\n    imports: []\n    resource_constraint: {}\nsignatures:\n  decision_function:\n    inputs:\n    - name: input_feature_0\n      nullable: false\n      type: DOUBLE\n    - name: input_feature_1\n      nullable: false\n      type: DOUBLE\n    - name: input_feature_2\n      nullable: false\n      type: DOUBLE\n    - name: input_feature_3\n      nullable: false\n      type: DOUBLE\n    - name: input_feature_4\n      nullable: false\n      type: DOUBLE\n    - name: input_feature_5\n      nullable: false\n      type: DOUBLE\n    - name: input_feature_6\n      nullable: false\n      type: DOUBLE\n    - name: input_feature_7\n      nullable: false\n      type: DOUBLE\n    - name: input_feature_8\n      nullable: false\n      type: DOUBLE\n    - name: input_feature_9\n      nullable: false\n      type: DOUBLE\n    - name: input_feature_10\n      nullable: false\n      type: DOUBLE\n    - name: input_feature_11\n      nullable: false\n      type: DOUBLE\n    - name: input_feature_12\n      nullable: false\n      type: DOUBLE\n    - name: input_feature_13\n      nullable: false\n      type: DOUBLE\n    - name: input_feature_14\n      nullable: false\n      type: DOUBLE\n    - name: input_feature_15\n      nullable: false\n      type: DOUBLE\n    - name: input_feature_16\n      nullable: false\n      type: DOUBLE\n    - name: input_feature_17\n      nullable: false\n      type: DOUBLE\n    - name: input_feature_18\n      nullable: false\n      type: DOUBLE\n    - name: input_feature_19\n      nullable: false\n      type: DOUBLE\n    - name: input_feature_20\n      nullable: false\n      type: DOUBLE\n    - name: input_feature_21\n      nullable: false\n      type: DOUBLE\n    - name: input_feature_22\n      nullable: false\n      type: DOUBLE\n    - name: input_feature_23\n      nullable: false\n      type: DOUBLE\n    - name: input_feature_24\n      nullable: false\n      type: DOUBLE\n    - name: input_feature_25\n      nullable: false\n      type: DOUBLE\n    - name: input_feature_26\n      nullable: false\n      type: DOUBLE\n    - name: input_feature_27\n      nullable: false\n      type: DOUBLE\n    - name: input_feature_28\n      nullable: false\n      type: DOUBLE\n    - name: input_feature_29\n      nullable: false\n      type: DOUBLE\n    - name: input_feature_30\n      nullable: false\n      type: DOUBLE\n    - name: input_feature_31\n      nullable: false\n      type: DOUBLE\n    - name: input_feature_32\n      nullable: false\n      type: DOUBLE\n    - name: input_feature_33\n      nullable: false\n      type: DOUBLE\n    - name: input_feature_34\n      nullable: false\n      type: DOUBLE\n    - name: input_feature_35\n      nullable: false\n      type: DOUBLE\n    - name: input_feature_36\n      nullable: false\n      type: DOUBLE\n    - name: input_feature_37\n      nullable: false\n      type: DOUBLE\n    - name: input_feature_38\n      nullable: false\n      type: DOUBLE\n    - name: input_feature_39\n      nullable: false\n      type: DOUBLE\n    - name: input_feature_40\n      nullable: false\n      type: DOUBLE\n    - name: input_feature_41\n      nullable: false\n      type: DOUBLE\n    - name: input_feature_42\n      nullable: false\n      type: DOUBLE\n    - name: input_feature_43\n      nullable: false\n      type: DOUBLE\n    - name: input_feature_44\n      nullable: false\n      type: DOUBLE\n    - name: input_feature_45\n      nullable: false\n      type: DOUBLE\n    - name: input_feature_46\n      nullable: false\n      type: DOUBLE\n    - name: input_feature_47\n      nullable: false\n      type: DOUBLE\n    - name: input_feature_48\n      nullable: false\n      type: DOUBLE\n    - name: input_feature_49\n      nullable: false\n      type: DOUBLE\n    - name: input_feature_50\n      nullable: false\n      type: DOUBLE\n    - name: input_feature_51\n      nullable: false\n      type: DOUBLE\n    - name: input_feature_52\n      nullable: false\n      type: DOUBLE\n    - name: input_feature_53\n      nullable: false\n      type: DOUBLE\n    - name: input_feature_54\n      nullable: false\n      type: DOUBLE\n    - name: input_feature_55\n      nullable: false\n      type: DOUBLE\n    - name: input_feature_56\n      nullable: false\n      type: DOUBLE\n    - name: input_feature_57\n      nullable: false\n      type: DOUBLE\n    - name: input_feature_58\n      nullable: false\n      type: DOUBLE\n    - name: input_feature_59\n      nullable: false\n      type: DOUBLE\n    - name: input_feature_60\n      nullable: false\n      type: DOUBLE\n    - name: input_feature_61\n      nullable: false\n      type: DOUBLE\n    - name: input_feature_62\n      nullable: false\n      type: DOUBLE\n    - name: input_feature_63\n      nullable: false\n      type: DOUBLE\n    outputs:\n    - name: output_feature_0\n      nullable: false\n      type: DOUBLE\n  explain:\n    inputs:\n    - name: input_feature_0\n      nullable: false\n      type: DOUBLE\n    - name: input_feature_1\n      nullable: false\n      type: DOUBLE\n    - name: input_feature_2\n      nullable: false\n      type: DOUBLE\n    - name: input_feature_3\n      nullable: false\n      type: DOUBLE\n    - name: input_feature_4\n      nullable: false\n      type: DOUBLE\n    - name: input_feature_5\n      nullable: false\n      type: DOUBLE\n    - name: input_feature_6\n      nullable: false\n      type: DOUBLE\n    - name: input_feature_7\n      nullable: false\n      type: DOUBLE\n    - name: input_feature_8\n      nullable: false\n      type: DOUBLE\n    - name: input_feature_9\n      nullable: false\n      type: DOUBLE\n    - name: input_feature_10\n      nullable: false\n      type: DOUBLE\n    - name: input_feature_11\n      nullable: false\n      type: DOUBLE\n    - name: input_feature_12\n      nullable: false\n      type: DOUBLE\n    - name: input_feature_13\n      nullable: false\n      type: DOUBLE\n    - name: input_feature_14\n      nullable: false\n      type: DOUBLE\n    - name: input_feature_15\n      nullable: false\n      type: DOUBLE\n    - name: input_feature_16\n      nullable: false\n      type: DOUBLE\n    - name: input_feature_17\n      nullable: false\n      type: DOUBLE\n    - name: input_feature_18\n      nullable: false\n      type: DOUBLE\n    - name: input_feature_19\n      nullable: false\n      type: DOUBLE\n    - name: input_feature_20\n      nullable: false\n      type: DOUBLE\n    - name: input_feature_21\n      nullable: false\n      type: DOUBLE\n    - name: input_feature_22\n      nullable: false\n      type: DOUBLE\n    - name: input_feature_23\n      nullable: false\n      type: DOUBLE\n    - name: input_feature_24\n      nullable: false\n      type: DOUBLE\n    - name: input_feature_25\n      nullable: false\n      type: DOUBLE\n    - name: input_feature_26\n      nullable: false\n      type: DOUBLE\n    - name: input_feature_27\n      nullable: false\n      type: DOUBLE\n    - name: input_feature_28\n      nullable: false\n      type: DOUBLE\n    - name: input_feature_29\n      nullable: false\n      type: DOUBLE\n    - name: input_feature_30\n      nullable: false\n      type: DOUBLE\n    - name: input_feature_31\n      nullable: false\n      type: DOUBLE\n    - name: input_feature_32\n      nullable: false\n      type: DOUBLE\n    - name: input_feature_33\n      nullable: false\n      type: DOUBLE\n    - name: input_feature_34\n      nullable: false\n      type: DOUBLE\n    - name: input_feature_35\n      nullable: false\n      type: DOUBLE\n    - name: input_feature_36\n      nullable: false\n      type: DOUBLE\n    - name: input_feature_37\n      nullable: false\n      type: DOUBLE\n    - name: input_feature_38\n      nullable: false\n      type: DOUBLE\n    - name: input_feature_39\n      nullable: false\n      type: DOUBLE\n    - name: input_feature_40\n      nullable: false\n      type: DOUBLE\n    - name: input_feature_41\n      nullable: false\n      type: DOUBLE\n    - name: input_feature_42\n      nullable: false\n      type: DOUBLE\n    - name: input_feature_43\n      nullable: false\n      type: DOUBLE\n    - name: input_feature_44\n      nullable: false\n      type: DOUBLE\n    - name: input_feature_45\n      nullable: false\n      type: DOUBLE\n    - name: input_feature_46\n      nullable: false\n      type: DOUBLE\n    - name: input_feature_47\n      nullable: false\n      type: DOUBLE\n    - name: input_feature_48\n      nullable: false\n      type: DOUBLE\n    - name: input_feature_49\n      nullable: false\n      type: DOUBLE\n    - name: input_feature_50\n      nullable: false\n      type: DOUBLE\n    - name: input_feature_51\n      nullable: false\n      type: DOUBLE\n    - name: input_feature_52\n      nullable: false\n      type: DOUBLE\n    - name: input_feature_53\n      nullable: false\n      type: DOUBLE\n    - name: input_feature_54\n      nullable: false\n      type: DOUBLE\n    - name: input_feature_55\n      nullable: false\n      type: DOUBLE\n    - name: input_feature_56\n      nullable: false\n      type: DOUBLE\n    - name: input_feature_57\n      nullable: false\n      type: DOUBLE\n    - name: input_feature_58\n      nullable: false\n      type: DOUBLE\n    - name: input_feature_59\n      nullable: false\n      type: DOUBLE\n    - name: input_feature_60\n      nullable: false\n      type: DOUBLE\n    - name: input_feature_61\n      nullable: false\n      type: DOUBLE\n    - name: input_feature_62\n      nullable: false\n      type: DOUBLE\n    - name: input_feature_63\n      nullable: false\n      type: DOUBLE\n    outputs:\n    - name: input_feature_0_explanation\n      nullable: true\n      type: DOUBLE\n    - name: input_feature_1_explanation\n      nullable: true\n      type: DOUBLE\n    - name: input_feature_2_explanation\n      nullable: true\n      type: DOUBLE\n    - name: input_feature_3_explanation\n      nullable: true\n      type: DOUBLE\n    - name: input_feature_4_explanation\n      nullable: true\n      type: DOUBLE\n    - name: input_feature_5_explanation\n      nullable: true\n      type: DOUBLE\n    - name: input_feature_6_explanation\n      nullable: true\n      type: DOUBLE\n    - name: input_feature_7_explanation\n      nullable: true\n      type: DOUBLE\n    - name: input_feature_8_explanation\n      nullable: true\n      type: DOUBLE\n    - name: input_feature_9_explanation\n      nullable: true\n      type: DOUBLE\n    - name: input_feature_10_explanation\n      nullable: true\n      type: DOUBLE\n    - name: input_feature_11_explanation\n      nullable: true\n      type: DOUBLE\n    - name: input_feature_12_explanation\n      nullable: true\n      type: DOUBLE\n    - name: input_feature_13_explanation\n      nullable: true\n      type: DOUBLE\n    - name: input_feature_14_explanation\n      nullable: true\n      type: DOUBLE\n    - name: input_feature_15_explanation\n      nullable: true\n      type: DOUBLE\n    - name: input_feature_16_explanation\n      nullable: true\n      type: DOUBLE\n    - name: input_feature_17_explanation\n      nullable: true\n      type: DOUBLE\n    - name: input_feature_18_explanation\n      nullable: true\n      type: DOUBLE\n    - name: input_feature_19_explanation\n      nullable: true\n      type: DOUBLE\n    - name: input_feature_20_explanation\n      nullable: true\n      type: DOUBLE\n    - name: input_feature_21_explanation\n      nullable: true\n      type: DOUBLE\n    - name: input_feature_22_explanation\n      nullable: true\n      type: DOUBLE\n    - name: input_feature_23_explanation\n      nullable: true\n      type: DOUBLE\n    - name: input_feature_24_explanation\n      nullable: true\n      type: DOUBLE\n    - name: input_feature_25_explanation\n      nullable: true\n      type: DOUBLE\n    - name: input_feature_26_explanation\n      nullable: true\n      type: DOUBLE\n    - name: input_feature_27_explanation\n      nullable: true\n      type: DOUBLE\n    - name: input_feature_28_explanation\n      nullable: true\n      type: DOUBLE\n    - name: input_feature_29_explanation\n      nullable: true\n      type: DOUBLE\n    - name: input_feature_30_explanation\n      nullable: true\n      type: DOUBLE\n    - name: input_feature_31_explanation\n      nullable: true\n      type: DOUBLE\n    - name: input_feature_32_explanation\n      nullable: true\n      type: DOUBLE\n    - name: input_feature_33_explanation\n      nullable: true\n      type: DOUBLE\n    - name: input_feature_34_explanation\n      nullable: true\n      type: DOUBLE\n    - name: input_feature_35_explanation\n      nullable: true\n      type: DOUBLE\n    - name: input_feature_36_explanation\n      nullable: true\n      type: DOUBLE\n    - name: input_feature_37_explanation\n      nullable: true\n      type: DOUBLE\n    - name: input_feature_38_explanation\n      nullable: true\n      type: DOUBLE\n    - name: input_feature_39_explanation\n      nullable: true\n      type: DOUBLE\n    - name: input_feature_40_explanation\n      nullable: true\n      type: DOUBLE\n    - name: input_feature_41_explanation\n      nullable: true\n      type: DOUBLE\n    - name: input_feature_42_explanation\n      nullable: true\n      type: DOUBLE\n    - name: input_feature_43_explanation\n      nullable: true\n      type: DOUBLE\n    - name: input_feature_44_explanation\n      nullable: true\n      type: DOUBLE\n    - name: input_feature_45_explanation\n      nullable: true\n      type: DOUBLE\n    - name: input_feature_46_explanation\n      nullable: true\n      type: DOUBLE\n    - name: input_feature_47_explanation\n      nullable: true\n      type: DOUBLE\n    - name: input_feature_48_explanation\n      nullable: true\n      type: DOUBLE\n    - name: input_feature_49_explanation\n      nullable: true\n      type: DOUBLE\n    - name: input_feature_50_explanation\n      nullable: true\n      type: DOUBLE\n    - name: input_feature_51_explanation\n      nullable: true\n      type: DOUBLE\n    - name: input_feature_52_explanation\n      nullable: true\n      type: DOUBLE\n    - name: input_feature_53_explanation\n      nullable: true\n      type: DOUBLE\n    - name: input_feature_54_explanation\n      nullable: true\n      type: DOUBLE\n    - name: input_feature_55_explanation\n      nullable: true\n      type: DOUBLE\n    - name: input_feature_56_explanation\n      nullable: true\n      type: DOUBLE\n    - name: input_feature_57_explanation\n      nullable: true\n      type: DOUBLE\n    - name: input_feature_58_explanation\n      nullable: true\n      type: DOUBLE\n    - name: input_feature_59_explanation\n      nullable: true\n      type: DOUBLE\n    - name: input_feature_60_explanation\n      nullable: true\n      type: DOUBLE\n    - name: input_feature_61_explanation\n      nullable: true\n      type: DOUBLE\n    - name: input_feature_62_explanation\n      nullable: true\n      type: DOUBLE\n    - name: input_feature_63_explanation\n      nullable: true\n      type: DOUBLE\n  predict:\n    inputs:\n    - name: input_feature_0\n      nullable: false\n      type: DOUBLE\n    - name: input_feature_1\n      nullable: false\n      type: DOUBLE\n    - name: input_feature_2\n      nullable: false\n      type: DOUBLE\n    - name: input_feature_3\n      nullable: false\n      type: DOUBLE\n    - name: input_feature_4\n      nullable: false\n      type: DOUBLE\n    - name: input_feature_5\n      nullable: false\n      type: DOUBLE\n    - name: input_feature_6\n      nullable: false\n      type: DOUBLE\n    - name: input_feature_7\n      nullable: false\n      type: DOUBLE\n    - name: input_feature_8\n      nullable: false\n      type: DOUBLE\n    - name: input_feature_9\n      nullable: false\n      type: DOUBLE\n    - name: input_feature_10\n      nullable: false\n      type: DOUBLE\n    - name: input_feature_11\n      nullable: false\n      type: DOUBLE\n    - name: input_feature_12\n      nullable: false\n      type: DOUBLE\n    - name: input_feature_13\n      nullable: false\n      type: DOUBLE\n    - name: input_feature_14\n      nullable: false\n      type: DOUBLE\n    - name: input_feature_15\n      nullable: false\n      type: DOUBLE\n    - name: input_feature_16\n      nullable: false\n      type: DOUBLE\n    - name: input_feature_17\n      nullable: false\n      type: DOUBLE\n    - name: input_feature_18\n      nullable: false\n      type: DOUBLE\n    - name: input_feature_19\n      nullable: false\n      type: DOUBLE\n    - name: input_feature_20\n      nullable: false\n      type: DOUBLE\n    - name: input_feature_21\n      nullable: false\n      type: DOUBLE\n    - name: input_feature_22\n      nullable: false\n      type: DOUBLE\n    - name: input_feature_23\n      nullable: false\n      type: DOUBLE\n    - name: input_feature_24\n      nullable: false\n      type: DOUBLE\n    - name: input_feature_25\n      nullable: false\n      type: DOUBLE\n    - name: input_feature_26\n      nullable: false\n      type: DOUBLE\n    - name: input_feature_27\n      nullable: false\n      type: DOUBLE\n    - name: input_feature_28\n      nullable: false\n      type: DOUBLE\n    - name: input_feature_29\n      nullable: false\n      type: DOUBLE\n    - name: input_feature_30\n      nullable: false\n      type: DOUBLE\n    - name: input_feature_31\n      nullable: false\n      type: DOUBLE\n    - name: input_feature_32\n      nullable: false\n      type: DOUBLE\n    - name: input_feature_33\n      nullable: false\n      type: DOUBLE\n    - name: input_feature_34\n      nullable: false\n      type: DOUBLE\n    - name: input_feature_35\n      nullable: false\n      type: DOUBLE\n    - name: input_feature_36\n      nullable: false\n      type: DOUBLE\n    - name: input_feature_37\n      nullable: false\n      type: DOUBLE\n    - name: input_feature_38\n      nullable: false\n      type: DOUBLE\n    - name: input_feature_39\n      nullable: false\n      type: DOUBLE\n    - name: input_feature_40\n      nullable: false\n      type: DOUBLE\n    - name: input_feature_41\n      nullable: false\n      type: DOUBLE\n    - name: input_feature_42\n      nullable: false\n      type: DOUBLE\n    - name: input_feature_43\n      nullable: false\n      type: DOUBLE\n    - name: input_feature_44\n      nullable: false\n      type: DOUBLE\n    - name: input_feature_45\n      nullable: false\n      type: DOUBLE\n    - name: input_feature_46\n      nullable: false\n      type: DOUBLE\n    - name: input_feature_47\n      nullable: false\n      type: DOUBLE\n    - name: input_feature_48\n      nullable: false\n      type: DOUBLE\n    - name: input_feature_49\n      nullable: false\n      type: DOUBLE\n    - name: input_feature_50\n      nullable: false\n      type: DOUBLE\n    - name: input_feature_51\n      nullable: false\n      type: DOUBLE\n    - name: input_feature_52\n      nullable: false\n      type: DOUBLE\n    - name: input_feature_53\n      nullable: false\n      type: DOUBLE\n    - name: input_feature_54\n      nullable: false\n      type: DOUBLE\n    - name: input_feature_55\n      nullable: false\n      type: DOUBLE\n    - name: input_feature_56\n      nullable: false\n      type: DOUBLE\n    - name: input_feature_57\n      nullable: false\n      type: DOUBLE\n    - name: input_feature_58\n      nullable: false\n      type: DOUBLE\n    - name: input_feature_59\n      nullable: false\n      type: DOUBLE\n    - name: input_feature_60\n      nullable: false\n      type: DOUBLE\n    - name: input_feature_61\n      nullable: false\n      type: DOUBLE\n    - name: input_feature_62\n      nullable: false\n      type: DOUBLE\n    - name: input_feature_63\n      nullable: false\n      type: DOUBLE\n    outputs:\n    - name: output_feature_0\n      nullable: false\n      type: BOOL\n  predict_log_proba:\n    inputs:\n    - name: input_feature_0\n      nullable: false\n      type: DOUBLE\n    - name: input_feature_1\n      nullable: false\n      type: DOUBLE\n    - name: input_feature_2\n      nullable: false\n      type: DOUBLE\n    - name: input_feature_3\n      nullable: false\n      type: DOUBLE\n    - name: input_feature_4\n      nullable: false\n      type: DOUBLE\n    - name: input_feature_5\n      nullable: false\n      type: DOUBLE\n    - name: input_feature_6\n      nullable: false\n      type: DOUBLE\n    - name: input_feature_7\n      nullable: false\n      type: DOUBLE\n    - name: input_feature_8\n      nullable: false\n      type: DOUBLE\n    - name: input_feature_9\n      nullable: false\n      type: DOUBLE\n    - name: input_feature_10\n      nullable: false\n      type: DOUBLE\n    - name: input_feature_11\n      nullable: false\n      type: DOUBLE\n    - name: input_feature_12\n      nullable: false\n      type: DOUBLE\n    - name: input_feature_13\n      nullable: false\n      type: DOUBLE\n    - name: input_feature_14\n      nullable: false\n      type: DOUBLE\n    - name: input_feature_15\n      nullable: false\n      type: DOUBLE\n    - name: input_feature_16\n      nullable: false\n      type: DOUBLE\n    - name: input_feature_17\n      nullable: false\n      type: DOUBLE\n    - name: input_feature_18\n      nullable: false\n      type: DOUBLE\n    - name: input_feature_19\n      nullable: false\n      type: DOUBLE\n    - name: input_feature_20\n      nullable: false\n      type: DOUBLE\n    - name: input_feature_21\n      nullable: false\n      type: DOUBLE\n    - name: input_feature_22\n      nullable: false\n      type: DOUBLE\n    - name: input_feature_23\n      nullable: false\n      type: DOUBLE\n    - name: input_feature_24\n      nullable: false\n      type: DOUBLE\n    - name: input_feature_25\n      nullable: false\n      type: DOUBLE\n    - name: input_feature_26\n      nullable: false\n      type: DOUBLE\n    - name: input_feature_27\n      nullable: false\n      type: DOUBLE\n    - name: input_feature_28\n      nullable: false\n      type: DOUBLE\n    - name: input_feature_29\n      nullable: false\n      type: DOUBLE\n    - name: input_feature_30\n      nullable: false\n      type: DOUBLE\n    - name: input_feature_31\n      nullable: false\n      type: DOUBLE\n    - name: input_feature_32\n      nullable: false\n      type: DOUBLE\n    - name: input_feature_33\n      nullable: false\n      type: DOUBLE\n    - name: input_feature_34\n      nullable: false\n      type: DOUBLE\n    - name: input_feature_35\n      nullable: false\n      type: DOUBLE\n    - name: input_feature_36\n      nullable: false\n      type: DOUBLE\n    - name: input_feature_37\n      nullable: false\n      type: DOUBLE\n    - name: input_feature_38\n      nullable: false\n      type: DOUBLE\n    - name: input_feature_39\n      nullable: false\n      type: DOUBLE\n    - name: input_feature_40\n      nullable: false\n      type: DOUBLE\n    - name: input_feature_41\n      nullable: false\n      type: DOUBLE\n    - name: input_feature_42\n      nullable: false\n      type: DOUBLE\n    - name: input_feature_43\n      nullable: false\n      type: DOUBLE\n    - name: input_feature_44\n      nullable: false\n      type: DOUBLE\n    - name: input_feature_45\n      nullable: false\n      type: DOUBLE\n    - name: input_feature_46\n      nullable: false\n      type: DOUBLE\n    - name: input_feature_47\n      nullable: false\n      type: DOUBLE\n    - name: input_feature_48\n      nullable: false\n      type: DOUBLE\n    - name: input_feature_49\n      nullable: false\n      type: DOUBLE\n    - name: input_feature_50\n      nullable: false\n      type: DOUBLE\n    - name: input_feature_51\n      nullable: false\n      type: DOUBLE\n    - name: input_feature_52\n      nullable: false\n      type: DOUBLE\n    - name: input_feature_53\n      nullable: false\n      type: DOUBLE\n    - name: input_feature_54\n      nullable: false\n      type: DOUBLE\n    - name: input_feature_55\n      nullable: false\n      type: DOUBLE\n    - name: input_feature_56\n      nullable: false\n      type: DOUBLE\n    - name: input_feature_57\n      nullable: false\n      type: DOUBLE\n    - name: input_feature_58\n      nullable: false\n      type: DOUBLE\n    - name: input_feature_59\n      nullable: false\n      type: DOUBLE\n    - name: input_feature_60\n      nullable: false\n      type: DOUBLE\n    - name: input_feature_61\n      nullable: false\n      type: DOUBLE\n    - name: input_feature_62\n      nullable: false\n      type: DOUBLE\n    - name: input_feature_63\n      nullable: false\n      type: DOUBLE\n    outputs:\n    - name: output_feature_0\n      nullable: false\n      type: DOUBLE\n    - name: output_feature_1\n      nullable: false\n      type: DOUBLE\n  predict_proba:\n    inputs:\n    - name: input_feature_0\n      nullable: false\n      type: DOUBLE\n    - name: input_feature_1\n      nullable: false\n      type: DOUBLE\n    - name: input_feature_2\n      nullable: false\n      type: DOUBLE\n    - name: input_feature_3\n      nullable: false\n      type: DOUBLE\n    - name: input_feature_4\n      nullable: false\n      type: DOUBLE\n    - name: input_feature_5\n      nullable: false\n      type: DOUBLE\n    - name: input_feature_6\n      nullable: false\n      type: DOUBLE\n    - name: input_feature_7\n      nullable: false\n      type: DOUBLE\n    - name: input_feature_8\n      nullable: false\n      type: DOUBLE\n    - name: input_feature_9\n      nullable: false\n      type: DOUBLE\n    - name: input_feature_10\n      nullable: false\n      type: DOUBLE\n    - name: input_feature_11\n      nullable: false\n      type: DOUBLE\n    - name: input_feature_12\n      nullable: false\n      type: DOUBLE\n    - name: input_feature_13\n      nullable: false\n      type: DOUBLE\n    - name: input_feature_14\n      nullable: false\n      type: DOUBLE\n    - name: input_feature_15\n      nullable: false\n      type: DOUBLE\n    - name: input_feature_16\n      nullable: false\n      type: DOUBLE\n    - name: input_feature_17\n      nullable: false\n      type: DOUBLE\n    - name: input_feature_18\n      nullable: false\n      type: DOUBLE\n    - name: input_feature_19\n      nullable: false\n      type: DOUBLE\n    - name: input_feature_20\n      nullable: false\n      type: DOUBLE\n    - name: input_feature_21\n      nullable: false\n      type: DOUBLE\n    - name: input_feature_22\n      nullable: false\n      type: DOUBLE\n    - name: input_feature_23\n      nullable: false\n      type: DOUBLE\n    - name: input_feature_24\n      nullable: false\n      type: DOUBLE\n    - name: input_feature_25\n      nullable: false\n      type: DOUBLE\n    - name: input_feature_26\n      nullable: false\n      type: DOUBLE\n    - name: input_feature_27\n      nullable: false\n      type: DOUBLE\n    - name: input_feature_28\n      nullable: false\n      type: DOUBLE\n    - name: input_feature_29\n      nullable: false\n      type: DOUBLE\n    - name: input_feature_30\n      nullable: false\n      type: DOUBLE\n    - name: input_feature_31\n      nullable: false\n      type: DOUBLE\n    - name: input_feature_32\n      nullable: false\n      type: DOUBLE\n    - name: input_feature_33\n      nullable: false\n      type: DOUBLE\n    - name: input_feature_34\n      nullable: false\n      type: DOUBLE\n    - name: input_feature_35\n      nullable: false\n      type: DOUBLE\n    - name: input_feature_36\n      nullable: false\n      type: DOUBLE\n    - name: input_feature_37\n      nullable: false\n      type: DOUBLE\n    - name: input_feature_38\n      nullable: false\n      type: DOUBLE\n    - name: input_feature_39\n      nullable: false\n      type: DOUBLE\n    - name: input_feature_40\n      nullable: false\n      type: DOUBLE\n    - name: input_feature_41\n      nullable: false\n      type: DOUBLE\n    - name: input_feature_42\n      nullable: false\n      type: DOUBLE\n    - name: input_feature_43\n      nullable: false\n      type: DOUBLE\n    - name: input_feature_44\n      nullable: false\n      type: DOUBLE\n    - name: input_feature_45\n      nullable: false\n      type: DOUBLE\n    - name: input_feature_46\n      nullable: false\n      type: DOUBLE\n    - name: input_feature_47\n      nullable: false\n      type: DOUBLE\n    - name: input_feature_48\n      nullable: false\n      type: DOUBLE\n    - name: input_feature_49\n      nullable: false\n      type: DOUBLE\n    - name: input_feature_50\n      nullable: false\n      type: DOUBLE\n    - name: input_feature_51\n      nullable: false\n      type: DOUBLE\n    - name: input_feature_52\n      nullable: false\n      type: DOUBLE\n    - name: input_feature_53\n      nullable: false\n      type: DOUBLE\n    - name: input_feature_54\n      nullable: false\n      type: DOUBLE\n    - name: input_feature_55\n      nullable: false\n      type: DOUBLE\n    - name: input_feature_56\n      nullable: false\n      type: DOUBLE\n    - name: input_feature_57\n      nullable: false\n      type: DOUBLE\n    - name: input_feature_58\n      nullable: false\n      type: DOUBLE\n    - name: input_feature_59\n      nullable: false\n      type: DOUBLE\n    - name: input_feature_60\n      nullable: false\n      type: DOUBLE\n    - name: input_feature_61\n      nullable: false\n      type: DOUBLE\n    - name: input_feature_62\n      nullable: false\n      type: DOUBLE\n    - name: input_feature_63\n      nullable: false\n      type: DOUBLE\n    outputs:\n    - name: output_feature_0\n      nullable: false\n      type: DOUBLE\n    - name: output_feature_1\n      nullable: false\n      type: DOUBLE\ntask: TABULAR_BINARY_CLASSIFICATION\nversion: '2023-12-01'\n"
        ]
       ],
       "shape": {
        "columns": 17,
        "rows": 1
       }
      },
      "text/html": [
       "<div>\n",
       "<style scoped>\n",
       "    .dataframe tbody tr th:only-of-type {\n",
       "        vertical-align: middle;\n",
       "    }\n",
       "\n",
       "    .dataframe tbody tr th {\n",
       "        vertical-align: top;\n",
       "    }\n",
       "\n",
       "    .dataframe thead th {\n",
       "        text-align: right;\n",
       "    }\n",
       "</style>\n",
       "<table border=\"1\" class=\"dataframe\">\n",
       "  <thead>\n",
       "    <tr style=\"text-align: right;\">\n",
       "      <th></th>\n",
       "      <th>created_on</th>\n",
       "      <th>name</th>\n",
       "      <th>aliases</th>\n",
       "      <th>comment</th>\n",
       "      <th>database_name</th>\n",
       "      <th>schema_name</th>\n",
       "      <th>model_name</th>\n",
       "      <th>is_default_version</th>\n",
       "      <th>functions</th>\n",
       "      <th>metadata</th>\n",
       "      <th>user_data</th>\n",
       "      <th>model_attributes</th>\n",
       "      <th>size</th>\n",
       "      <th>environment</th>\n",
       "      <th>runnable_in</th>\n",
       "      <th>inference_services</th>\n",
       "      <th>model_spec</th>\n",
       "    </tr>\n",
       "  </thead>\n",
       "  <tbody>\n",
       "    <tr>\n",
       "      <th>0</th>\n",
       "      <td>2025-05-02 09:18:00.703000-07:00</td>\n",
       "      <td>V1</td>\n",
       "      <td>[\"DEFAULT\",\"FIRST\",\"LAST\"]</td>\n",
       "      <td>This is the first version of my model.</td>\n",
       "      <td>MY_REGISTRY</td>\n",
       "      <td>PUBLIC</td>\n",
       "      <td>MY_MODEL</td>\n",
       "      <td>true</td>\n",
       "      <td>[\"PREDICT_PROBA\",\"EXPLAIN\",\"PREDICT\",\"DECISION...</td>\n",
       "      <td>{}</td>\n",
       "      <td>{}</td>\n",
       "      <td>{\"framework\":\"sklearn\",\"task\":\"TABULAR_BINARY_...</td>\n",
       "      <td>103625</td>\n",
       "      <td>{\"default\":{\"python_version\":\"3.11\",\"snowflake...</td>\n",
       "      <td>[\"WAREHOUSE\",\"SNOWPARK_CONTAINER_SERVICES\"]</td>\n",
       "      <td>[]</td>\n",
       "      <td>creation_timestamp: '2025-05-02 16:18:19.15864...</td>\n",
       "    </tr>\n",
       "  </tbody>\n",
       "</table>\n",
       "</div>"
      ],
      "text/plain": [
       "                        created_on name                     aliases  \\\n",
       "0 2025-05-02 09:18:00.703000-07:00   V1  [\"DEFAULT\",\"FIRST\",\"LAST\"]   \n",
       "\n",
       "                                  comment database_name schema_name  \\\n",
       "0  This is the first version of my model.   MY_REGISTRY      PUBLIC   \n",
       "\n",
       "  model_name is_default_version  \\\n",
       "0   MY_MODEL               true   \n",
       "\n",
       "                                           functions metadata user_data  \\\n",
       "0  [\"PREDICT_PROBA\",\"EXPLAIN\",\"PREDICT\",\"DECISION...       {}        {}   \n",
       "\n",
       "                                    model_attributes    size  \\\n",
       "0  {\"framework\":\"sklearn\",\"task\":\"TABULAR_BINARY_...  103625   \n",
       "\n",
       "                                         environment  \\\n",
       "0  {\"default\":{\"python_version\":\"3.11\",\"snowflake...   \n",
       "\n",
       "                                   runnable_in inference_services  \\\n",
       "0  [\"WAREHOUSE\",\"SNOWPARK_CONTAINER_SERVICES\"]                 []   \n",
       "\n",
       "                                          model_spec  \n",
       "0  creation_timestamp: '2025-05-02 16:18:19.15864...  "
      ]
     },
     "execution_count": 26,
     "metadata": {},
     "output_type": "execute_result"
    }
   ],
   "source": [
    "m.show_versions()"
   ]
  },
  {
   "cell_type": "markdown",
   "metadata": {},
   "source": [
    "### Model Metrics\n"
   ]
  },
  {
   "cell_type": "markdown",
   "metadata": {},
   "source": [
    "Metrics are a type of metadata annotation that can be associated with a version of models stored in the Registry. Metrics often take the form of scalars but we also support more complex objects such as arrays or dictionaries to represent metrics, as long as they are JSON serializable. In the examples below, we add scalars, dictionaries, and a 2-dimensional numpy array as metrics.\n"
   ]
  },
  {
   "cell_type": "code",
   "execution_count": 27,
   "metadata": {},
   "outputs": [
    {
     "name": "stdout",
     "output_type": "stream",
     "text": [
      "Model test accuracy: 0.97\n",
      "Confusion matrix: [[90  0]\n",
      " [ 3  7]]\n"
     ]
    }
   ],
   "source": [
    "from sklearn import metrics\n",
    "\n",
    "test_accuracy = metrics.accuracy_score(test_labels, prediction)\n",
    "print(\"Model test accuracy:\", test_accuracy)\n",
    "\n",
    "test_confusion_matrix = metrics.confusion_matrix(test_labels, prediction)\n",
    "print(\"Confusion matrix:\", test_confusion_matrix)"
   ]
  },
  {
   "cell_type": "code",
   "execution_count": 28,
   "metadata": {},
   "outputs": [],
   "source": [
    "mv.set_metric(metric_name=\"test_accuracy\", value=test_accuracy)\n",
    "\n",
    "mv.set_metric(metric_name=\"num_training_examples\", value=num_training_examples)\n",
    "\n",
    "mv.set_metric(metric_name=\"dataset_test\", value={\"accuracy\": test_accuracy})\n",
    "\n",
    "mv.set_metric(metric_name=\"confusion_matrix\", value=test_confusion_matrix.tolist())"
   ]
  },
  {
   "cell_type": "code",
   "execution_count": 29,
   "metadata": {},
   "outputs": [
    {
     "data": {
      "text/plain": [
       "[[90, 0], [3, 7]]"
      ]
     },
     "execution_count": 29,
     "metadata": {},
     "output_type": "execute_result"
    }
   ],
   "source": [
    "mv.get_metric(metric_name=\"confusion_matrix\")"
   ]
  },
  {
   "cell_type": "code",
   "execution_count": 30,
   "metadata": {},
   "outputs": [],
   "source": [
    "mv.delete_metric(metric_name=\"confusion_matrix\")"
   ]
  },
  {
   "cell_type": "code",
   "execution_count": 31,
   "metadata": {},
   "outputs": [
    {
     "data": {
      "text/plain": [
       "{'test_accuracy': 0.97,\n",
       " 'num_training_examples': 10,\n",
       " 'dataset_test': {'accuracy': 0.97}}"
      ]
     },
     "execution_count": 31,
     "metadata": {},
     "output_type": "execute_result"
    }
   ],
   "source": [
    "mv.show_metrics()"
   ]
  },
  {
   "cell_type": "code",
   "execution_count": 32,
   "metadata": {},
   "outputs": [
    {
     "data": {
      "application/vnd.microsoft.datawrangler.viewer.v0+json": {
       "columns": [
        {
         "name": "index",
         "rawType": "int64",
         "type": "integer"
        },
        {
         "name": "created_on",
         "rawType": "datetime64[ns, America/Los_Angeles]",
         "type": "unknown"
        },
        {
         "name": "name",
         "rawType": "object",
         "type": "string"
        },
        {
         "name": "aliases",
         "rawType": "object",
         "type": "string"
        },
        {
         "name": "comment",
         "rawType": "object",
         "type": "string"
        },
        {
         "name": "database_name",
         "rawType": "object",
         "type": "string"
        },
        {
         "name": "schema_name",
         "rawType": "object",
         "type": "string"
        },
        {
         "name": "model_name",
         "rawType": "object",
         "type": "string"
        },
        {
         "name": "is_default_version",
         "rawType": "object",
         "type": "string"
        },
        {
         "name": "functions",
         "rawType": "object",
         "type": "string"
        },
        {
         "name": "metadata",
         "rawType": "object",
         "type": "string"
        },
        {
         "name": "user_data",
         "rawType": "object",
         "type": "string"
        },
        {
         "name": "model_attributes",
         "rawType": "object",
         "type": "string"
        },
        {
         "name": "size",
         "rawType": "int64",
         "type": "integer"
        },
        {
         "name": "environment",
         "rawType": "object",
         "type": "string"
        },
        {
         "name": "runnable_in",
         "rawType": "object",
         "type": "string"
        },
        {
         "name": "inference_services",
         "rawType": "object",
         "type": "string"
        },
        {
         "name": "model_spec",
         "rawType": "object",
         "type": "string"
        }
       ],
       "conversionMethod": "pd.DataFrame",
       "ref": "08372787-71ab-4028-bbfd-15ef31d8c95d",
       "rows": [
        [
         "0",
         "2025-05-02 09:18:00.703000-07:00",
         "V1",
         "[\"DEFAULT\",\"FIRST\",\"LAST\"]",
         "This is the first version of my model.",
         "MY_REGISTRY",
         "PUBLIC",
         "MY_MODEL",
         "true",
         "[\"PREDICT_PROBA\",\"EXPLAIN\",\"PREDICT\",\"DECISION_FUNCTION\",\"PREDICT_LOG_PROBA\"]",
         "{\"metrics\": {\"test_accuracy\": 0.97, \"num_training_examples\": 10, \"dataset_test\": {\"accuracy\": 0.97}}, \"snowpark_ml_schema_version\": \"2024-01-01\"}",
         "{}",
         "{\"framework\":\"sklearn\",\"task\":\"TABULAR_BINARY_CLASSIFICATION\",\"client\":\"snowflake-ml-python 1.8.2\"}",
         "103625",
         "{\"default\":{\"python_version\":\"3.11\",\"snowflake-ml-python_version\":\"1.8.2\",\"has_pip_requirements\":false,\"conda_channels\":[\"https://repo.anaconda.com/pkgs/snowflake\",\"nodefaults\"],\"has_pip_artifact_repository\":false}}",
         "[\"WAREHOUSE\",\"SNOWPARK_CONTAINER_SERVICES\"]",
         "[]",
         "creation_timestamp: '2025-05-02 16:18:19.158648'\nenv:\n  artifact_repository_map: {}\n  conda: env/conda.yml\n  cuda_version: null\n  pip: env/requirements.txt\n  python_version: '3.11'\n  resource_constraint: {}\n  snowpark_ml_version: 1.8.2\nexplainability:\n  algorithm: shap\nfunction_properties: {}\nmetadata: null\nmin_snowpark_ml_version: 1.0.12\nmodel_type: sklearn\nmodels:\n  MY_MODEL:\n    artifacts: {}\n    function_properties: {}\n    handler_version: '2023-12-01'\n    model_type: sklearn\n    name: MY_MODEL\n    options: {}\n    path: model.pkl\nname: MY_MODEL\nruntimes:\n  cpu:\n    dependencies:\n      artifact_repository_map: {}\n      conda: runtimes/cpu/env/conda.yml\n      pip: runtimes/cpu/env/requirements.txt\n    imports: []\n    resource_constraint: {}\nsignatures:\n  decision_function:\n    inputs:\n    - name: input_feature_0\n      nullable: false\n      type: DOUBLE\n    - name: input_feature_1\n      nullable: false\n      type: DOUBLE\n    - name: input_feature_2\n      nullable: false\n      type: DOUBLE\n    - name: input_feature_3\n      nullable: false\n      type: DOUBLE\n    - name: input_feature_4\n      nullable: false\n      type: DOUBLE\n    - name: input_feature_5\n      nullable: false\n      type: DOUBLE\n    - name: input_feature_6\n      nullable: false\n      type: DOUBLE\n    - name: input_feature_7\n      nullable: false\n      type: DOUBLE\n    - name: input_feature_8\n      nullable: false\n      type: DOUBLE\n    - name: input_feature_9\n      nullable: false\n      type: DOUBLE\n    - name: input_feature_10\n      nullable: false\n      type: DOUBLE\n    - name: input_feature_11\n      nullable: false\n      type: DOUBLE\n    - name: input_feature_12\n      nullable: false\n      type: DOUBLE\n    - name: input_feature_13\n      nullable: false\n      type: DOUBLE\n    - name: input_feature_14\n      nullable: false\n      type: DOUBLE\n    - name: input_feature_15\n      nullable: false\n      type: DOUBLE\n    - name: input_feature_16\n      nullable: false\n      type: DOUBLE\n    - name: input_feature_17\n      nullable: false\n      type: DOUBLE\n    - name: input_feature_18\n      nullable: false\n      type: DOUBLE\n    - name: input_feature_19\n      nullable: false\n      type: DOUBLE\n    - name: input_feature_20\n      nullable: false\n      type: DOUBLE\n    - name: input_feature_21\n      nullable: false\n      type: DOUBLE\n    - name: input_feature_22\n      nullable: false\n      type: DOUBLE\n    - name: input_feature_23\n      nullable: false\n      type: DOUBLE\n    - name: input_feature_24\n      nullable: false\n      type: DOUBLE\n    - name: input_feature_25\n      nullable: false\n      type: DOUBLE\n    - name: input_feature_26\n      nullable: false\n      type: DOUBLE\n    - name: input_feature_27\n      nullable: false\n      type: DOUBLE\n    - name: input_feature_28\n      nullable: false\n      type: DOUBLE\n    - name: input_feature_29\n      nullable: false\n      type: DOUBLE\n    - name: input_feature_30\n      nullable: false\n      type: DOUBLE\n    - name: input_feature_31\n      nullable: false\n      type: DOUBLE\n    - name: input_feature_32\n      nullable: false\n      type: DOUBLE\n    - name: input_feature_33\n      nullable: false\n      type: DOUBLE\n    - name: input_feature_34\n      nullable: false\n      type: DOUBLE\n    - name: input_feature_35\n      nullable: false\n      type: DOUBLE\n    - name: input_feature_36\n      nullable: false\n      type: DOUBLE\n    - name: input_feature_37\n      nullable: false\n      type: DOUBLE\n    - name: input_feature_38\n      nullable: false\n      type: DOUBLE\n    - name: input_feature_39\n      nullable: false\n      type: DOUBLE\n    - name: input_feature_40\n      nullable: false\n      type: DOUBLE\n    - name: input_feature_41\n      nullable: false\n      type: DOUBLE\n    - name: input_feature_42\n      nullable: false\n      type: DOUBLE\n    - name: input_feature_43\n      nullable: false\n      type: DOUBLE\n    - name: input_feature_44\n      nullable: false\n      type: DOUBLE\n    - name: input_feature_45\n      nullable: false\n      type: DOUBLE\n    - name: input_feature_46\n      nullable: false\n      type: DOUBLE\n    - name: input_feature_47\n      nullable: false\n      type: DOUBLE\n    - name: input_feature_48\n      nullable: false\n      type: DOUBLE\n    - name: input_feature_49\n      nullable: false\n      type: DOUBLE\n    - name: input_feature_50\n      nullable: false\n      type: DOUBLE\n    - name: input_feature_51\n      nullable: false\n      type: DOUBLE\n    - name: input_feature_52\n      nullable: false\n      type: DOUBLE\n    - name: input_feature_53\n      nullable: false\n      type: DOUBLE\n    - name: input_feature_54\n      nullable: false\n      type: DOUBLE\n    - name: input_feature_55\n      nullable: false\n      type: DOUBLE\n    - name: input_feature_56\n      nullable: false\n      type: DOUBLE\n    - name: input_feature_57\n      nullable: false\n      type: DOUBLE\n    - name: input_feature_58\n      nullable: false\n      type: DOUBLE\n    - name: input_feature_59\n      nullable: false\n      type: DOUBLE\n    - name: input_feature_60\n      nullable: false\n      type: DOUBLE\n    - name: input_feature_61\n      nullable: false\n      type: DOUBLE\n    - name: input_feature_62\n      nullable: false\n      type: DOUBLE\n    - name: input_feature_63\n      nullable: false\n      type: DOUBLE\n    outputs:\n    - name: output_feature_0\n      nullable: false\n      type: DOUBLE\n  explain:\n    inputs:\n    - name: input_feature_0\n      nullable: false\n      type: DOUBLE\n    - name: input_feature_1\n      nullable: false\n      type: DOUBLE\n    - name: input_feature_2\n      nullable: false\n      type: DOUBLE\n    - name: input_feature_3\n      nullable: false\n      type: DOUBLE\n    - name: input_feature_4\n      nullable: false\n      type: DOUBLE\n    - name: input_feature_5\n      nullable: false\n      type: DOUBLE\n    - name: input_feature_6\n      nullable: false\n      type: DOUBLE\n    - name: input_feature_7\n      nullable: false\n      type: DOUBLE\n    - name: input_feature_8\n      nullable: false\n      type: DOUBLE\n    - name: input_feature_9\n      nullable: false\n      type: DOUBLE\n    - name: input_feature_10\n      nullable: false\n      type: DOUBLE\n    - name: input_feature_11\n      nullable: false\n      type: DOUBLE\n    - name: input_feature_12\n      nullable: false\n      type: DOUBLE\n    - name: input_feature_13\n      nullable: false\n      type: DOUBLE\n    - name: input_feature_14\n      nullable: false\n      type: DOUBLE\n    - name: input_feature_15\n      nullable: false\n      type: DOUBLE\n    - name: input_feature_16\n      nullable: false\n      type: DOUBLE\n    - name: input_feature_17\n      nullable: false\n      type: DOUBLE\n    - name: input_feature_18\n      nullable: false\n      type: DOUBLE\n    - name: input_feature_19\n      nullable: false\n      type: DOUBLE\n    - name: input_feature_20\n      nullable: false\n      type: DOUBLE\n    - name: input_feature_21\n      nullable: false\n      type: DOUBLE\n    - name: input_feature_22\n      nullable: false\n      type: DOUBLE\n    - name: input_feature_23\n      nullable: false\n      type: DOUBLE\n    - name: input_feature_24\n      nullable: false\n      type: DOUBLE\n    - name: input_feature_25\n      nullable: false\n      type: DOUBLE\n    - name: input_feature_26\n      nullable: false\n      type: DOUBLE\n    - name: input_feature_27\n      nullable: false\n      type: DOUBLE\n    - name: input_feature_28\n      nullable: false\n      type: DOUBLE\n    - name: input_feature_29\n      nullable: false\n      type: DOUBLE\n    - name: input_feature_30\n      nullable: false\n      type: DOUBLE\n    - name: input_feature_31\n      nullable: false\n      type: DOUBLE\n    - name: input_feature_32\n      nullable: false\n      type: DOUBLE\n    - name: input_feature_33\n      nullable: false\n      type: DOUBLE\n    - name: input_feature_34\n      nullable: false\n      type: DOUBLE\n    - name: input_feature_35\n      nullable: false\n      type: DOUBLE\n    - name: input_feature_36\n      nullable: false\n      type: DOUBLE\n    - name: input_feature_37\n      nullable: false\n      type: DOUBLE\n    - name: input_feature_38\n      nullable: false\n      type: DOUBLE\n    - name: input_feature_39\n      nullable: false\n      type: DOUBLE\n    - name: input_feature_40\n      nullable: false\n      type: DOUBLE\n    - name: input_feature_41\n      nullable: false\n      type: DOUBLE\n    - name: input_feature_42\n      nullable: false\n      type: DOUBLE\n    - name: input_feature_43\n      nullable: false\n      type: DOUBLE\n    - name: input_feature_44\n      nullable: false\n      type: DOUBLE\n    - name: input_feature_45\n      nullable: false\n      type: DOUBLE\n    - name: input_feature_46\n      nullable: false\n      type: DOUBLE\n    - name: input_feature_47\n      nullable: false\n      type: DOUBLE\n    - name: input_feature_48\n      nullable: false\n      type: DOUBLE\n    - name: input_feature_49\n      nullable: false\n      type: DOUBLE\n    - name: input_feature_50\n      nullable: false\n      type: DOUBLE\n    - name: input_feature_51\n      nullable: false\n      type: DOUBLE\n    - name: input_feature_52\n      nullable: false\n      type: DOUBLE\n    - name: input_feature_53\n      nullable: false\n      type: DOUBLE\n    - name: input_feature_54\n      nullable: false\n      type: DOUBLE\n    - name: input_feature_55\n      nullable: false\n      type: DOUBLE\n    - name: input_feature_56\n      nullable: false\n      type: DOUBLE\n    - name: input_feature_57\n      nullable: false\n      type: DOUBLE\n    - name: input_feature_58\n      nullable: false\n      type: DOUBLE\n    - name: input_feature_59\n      nullable: false\n      type: DOUBLE\n    - name: input_feature_60\n      nullable: false\n      type: DOUBLE\n    - name: input_feature_61\n      nullable: false\n      type: DOUBLE\n    - name: input_feature_62\n      nullable: false\n      type: DOUBLE\n    - name: input_feature_63\n      nullable: false\n      type: DOUBLE\n    outputs:\n    - name: input_feature_0_explanation\n      nullable: true\n      type: DOUBLE\n    - name: input_feature_1_explanation\n      nullable: true\n      type: DOUBLE\n    - name: input_feature_2_explanation\n      nullable: true\n      type: DOUBLE\n    - name: input_feature_3_explanation\n      nullable: true\n      type: DOUBLE\n    - name: input_feature_4_explanation\n      nullable: true\n      type: DOUBLE\n    - name: input_feature_5_explanation\n      nullable: true\n      type: DOUBLE\n    - name: input_feature_6_explanation\n      nullable: true\n      type: DOUBLE\n    - name: input_feature_7_explanation\n      nullable: true\n      type: DOUBLE\n    - name: input_feature_8_explanation\n      nullable: true\n      type: DOUBLE\n    - name: input_feature_9_explanation\n      nullable: true\n      type: DOUBLE\n    - name: input_feature_10_explanation\n      nullable: true\n      type: DOUBLE\n    - name: input_feature_11_explanation\n      nullable: true\n      type: DOUBLE\n    - name: input_feature_12_explanation\n      nullable: true\n      type: DOUBLE\n    - name: input_feature_13_explanation\n      nullable: true\n      type: DOUBLE\n    - name: input_feature_14_explanation\n      nullable: true\n      type: DOUBLE\n    - name: input_feature_15_explanation\n      nullable: true\n      type: DOUBLE\n    - name: input_feature_16_explanation\n      nullable: true\n      type: DOUBLE\n    - name: input_feature_17_explanation\n      nullable: true\n      type: DOUBLE\n    - name: input_feature_18_explanation\n      nullable: true\n      type: DOUBLE\n    - name: input_feature_19_explanation\n      nullable: true\n      type: DOUBLE\n    - name: input_feature_20_explanation\n      nullable: true\n      type: DOUBLE\n    - name: input_feature_21_explanation\n      nullable: true\n      type: DOUBLE\n    - name: input_feature_22_explanation\n      nullable: true\n      type: DOUBLE\n    - name: input_feature_23_explanation\n      nullable: true\n      type: DOUBLE\n    - name: input_feature_24_explanation\n      nullable: true\n      type: DOUBLE\n    - name: input_feature_25_explanation\n      nullable: true\n      type: DOUBLE\n    - name: input_feature_26_explanation\n      nullable: true\n      type: DOUBLE\n    - name: input_feature_27_explanation\n      nullable: true\n      type: DOUBLE\n    - name: input_feature_28_explanation\n      nullable: true\n      type: DOUBLE\n    - name: input_feature_29_explanation\n      nullable: true\n      type: DOUBLE\n    - name: input_feature_30_explanation\n      nullable: true\n      type: DOUBLE\n    - name: input_feature_31_explanation\n      nullable: true\n      type: DOUBLE\n    - name: input_feature_32_explanation\n      nullable: true\n      type: DOUBLE\n    - name: input_feature_33_explanation\n      nullable: true\n      type: DOUBLE\n    - name: input_feature_34_explanation\n      nullable: true\n      type: DOUBLE\n    - name: input_feature_35_explanation\n      nullable: true\n      type: DOUBLE\n    - name: input_feature_36_explanation\n      nullable: true\n      type: DOUBLE\n    - name: input_feature_37_explanation\n      nullable: true\n      type: DOUBLE\n    - name: input_feature_38_explanation\n      nullable: true\n      type: DOUBLE\n    - name: input_feature_39_explanation\n      nullable: true\n      type: DOUBLE\n    - name: input_feature_40_explanation\n      nullable: true\n      type: DOUBLE\n    - name: input_feature_41_explanation\n      nullable: true\n      type: DOUBLE\n    - name: input_feature_42_explanation\n      nullable: true\n      type: DOUBLE\n    - name: input_feature_43_explanation\n      nullable: true\n      type: DOUBLE\n    - name: input_feature_44_explanation\n      nullable: true\n      type: DOUBLE\n    - name: input_feature_45_explanation\n      nullable: true\n      type: DOUBLE\n    - name: input_feature_46_explanation\n      nullable: true\n      type: DOUBLE\n    - name: input_feature_47_explanation\n      nullable: true\n      type: DOUBLE\n    - name: input_feature_48_explanation\n      nullable: true\n      type: DOUBLE\n    - name: input_feature_49_explanation\n      nullable: true\n      type: DOUBLE\n    - name: input_feature_50_explanation\n      nullable: true\n      type: DOUBLE\n    - name: input_feature_51_explanation\n      nullable: true\n      type: DOUBLE\n    - name: input_feature_52_explanation\n      nullable: true\n      type: DOUBLE\n    - name: input_feature_53_explanation\n      nullable: true\n      type: DOUBLE\n    - name: input_feature_54_explanation\n      nullable: true\n      type: DOUBLE\n    - name: input_feature_55_explanation\n      nullable: true\n      type: DOUBLE\n    - name: input_feature_56_explanation\n      nullable: true\n      type: DOUBLE\n    - name: input_feature_57_explanation\n      nullable: true\n      type: DOUBLE\n    - name: input_feature_58_explanation\n      nullable: true\n      type: DOUBLE\n    - name: input_feature_59_explanation\n      nullable: true\n      type: DOUBLE\n    - name: input_feature_60_explanation\n      nullable: true\n      type: DOUBLE\n    - name: input_feature_61_explanation\n      nullable: true\n      type: DOUBLE\n    - name: input_feature_62_explanation\n      nullable: true\n      type: DOUBLE\n    - name: input_feature_63_explanation\n      nullable: true\n      type: DOUBLE\n  predict:\n    inputs:\n    - name: input_feature_0\n      nullable: false\n      type: DOUBLE\n    - name: input_feature_1\n      nullable: false\n      type: DOUBLE\n    - name: input_feature_2\n      nullable: false\n      type: DOUBLE\n    - name: input_feature_3\n      nullable: false\n      type: DOUBLE\n    - name: input_feature_4\n      nullable: false\n      type: DOUBLE\n    - name: input_feature_5\n      nullable: false\n      type: DOUBLE\n    - name: input_feature_6\n      nullable: false\n      type: DOUBLE\n    - name: input_feature_7\n      nullable: false\n      type: DOUBLE\n    - name: input_feature_8\n      nullable: false\n      type: DOUBLE\n    - name: input_feature_9\n      nullable: false\n      type: DOUBLE\n    - name: input_feature_10\n      nullable: false\n      type: DOUBLE\n    - name: input_feature_11\n      nullable: false\n      type: DOUBLE\n    - name: input_feature_12\n      nullable: false\n      type: DOUBLE\n    - name: input_feature_13\n      nullable: false\n      type: DOUBLE\n    - name: input_feature_14\n      nullable: false\n      type: DOUBLE\n    - name: input_feature_15\n      nullable: false\n      type: DOUBLE\n    - name: input_feature_16\n      nullable: false\n      type: DOUBLE\n    - name: input_feature_17\n      nullable: false\n      type: DOUBLE\n    - name: input_feature_18\n      nullable: false\n      type: DOUBLE\n    - name: input_feature_19\n      nullable: false\n      type: DOUBLE\n    - name: input_feature_20\n      nullable: false\n      type: DOUBLE\n    - name: input_feature_21\n      nullable: false\n      type: DOUBLE\n    - name: input_feature_22\n      nullable: false\n      type: DOUBLE\n    - name: input_feature_23\n      nullable: false\n      type: DOUBLE\n    - name: input_feature_24\n      nullable: false\n      type: DOUBLE\n    - name: input_feature_25\n      nullable: false\n      type: DOUBLE\n    - name: input_feature_26\n      nullable: false\n      type: DOUBLE\n    - name: input_feature_27\n      nullable: false\n      type: DOUBLE\n    - name: input_feature_28\n      nullable: false\n      type: DOUBLE\n    - name: input_feature_29\n      nullable: false\n      type: DOUBLE\n    - name: input_feature_30\n      nullable: false\n      type: DOUBLE\n    - name: input_feature_31\n      nullable: false\n      type: DOUBLE\n    - name: input_feature_32\n      nullable: false\n      type: DOUBLE\n    - name: input_feature_33\n      nullable: false\n      type: DOUBLE\n    - name: input_feature_34\n      nullable: false\n      type: DOUBLE\n    - name: input_feature_35\n      nullable: false\n      type: DOUBLE\n    - name: input_feature_36\n      nullable: false\n      type: DOUBLE\n    - name: input_feature_37\n      nullable: false\n      type: DOUBLE\n    - name: input_feature_38\n      nullable: false\n      type: DOUBLE\n    - name: input_feature_39\n      nullable: false\n      type: DOUBLE\n    - name: input_feature_40\n      nullable: false\n      type: DOUBLE\n    - name: input_feature_41\n      nullable: false\n      type: DOUBLE\n    - name: input_feature_42\n      nullable: false\n      type: DOUBLE\n    - name: input_feature_43\n      nullable: false\n      type: DOUBLE\n    - name: input_feature_44\n      nullable: false\n      type: DOUBLE\n    - name: input_feature_45\n      nullable: false\n      type: DOUBLE\n    - name: input_feature_46\n      nullable: false\n      type: DOUBLE\n    - name: input_feature_47\n      nullable: false\n      type: DOUBLE\n    - name: input_feature_48\n      nullable: false\n      type: DOUBLE\n    - name: input_feature_49\n      nullable: false\n      type: DOUBLE\n    - name: input_feature_50\n      nullable: false\n      type: DOUBLE\n    - name: input_feature_51\n      nullable: false\n      type: DOUBLE\n    - name: input_feature_52\n      nullable: false\n      type: DOUBLE\n    - name: input_feature_53\n      nullable: false\n      type: DOUBLE\n    - name: input_feature_54\n      nullable: false\n      type: DOUBLE\n    - name: input_feature_55\n      nullable: false\n      type: DOUBLE\n    - name: input_feature_56\n      nullable: false\n      type: DOUBLE\n    - name: input_feature_57\n      nullable: false\n      type: DOUBLE\n    - name: input_feature_58\n      nullable: false\n      type: DOUBLE\n    - name: input_feature_59\n      nullable: false\n      type: DOUBLE\n    - name: input_feature_60\n      nullable: false\n      type: DOUBLE\n    - name: input_feature_61\n      nullable: false\n      type: DOUBLE\n    - name: input_feature_62\n      nullable: false\n      type: DOUBLE\n    - name: input_feature_63\n      nullable: false\n      type: DOUBLE\n    outputs:\n    - name: output_feature_0\n      nullable: false\n      type: BOOL\n  predict_log_proba:\n    inputs:\n    - name: input_feature_0\n      nullable: false\n      type: DOUBLE\n    - name: input_feature_1\n      nullable: false\n      type: DOUBLE\n    - name: input_feature_2\n      nullable: false\n      type: DOUBLE\n    - name: input_feature_3\n      nullable: false\n      type: DOUBLE\n    - name: input_feature_4\n      nullable: false\n      type: DOUBLE\n    - name: input_feature_5\n      nullable: false\n      type: DOUBLE\n    - name: input_feature_6\n      nullable: false\n      type: DOUBLE\n    - name: input_feature_7\n      nullable: false\n      type: DOUBLE\n    - name: input_feature_8\n      nullable: false\n      type: DOUBLE\n    - name: input_feature_9\n      nullable: false\n      type: DOUBLE\n    - name: input_feature_10\n      nullable: false\n      type: DOUBLE\n    - name: input_feature_11\n      nullable: false\n      type: DOUBLE\n    - name: input_feature_12\n      nullable: false\n      type: DOUBLE\n    - name: input_feature_13\n      nullable: false\n      type: DOUBLE\n    - name: input_feature_14\n      nullable: false\n      type: DOUBLE\n    - name: input_feature_15\n      nullable: false\n      type: DOUBLE\n    - name: input_feature_16\n      nullable: false\n      type: DOUBLE\n    - name: input_feature_17\n      nullable: false\n      type: DOUBLE\n    - name: input_feature_18\n      nullable: false\n      type: DOUBLE\n    - name: input_feature_19\n      nullable: false\n      type: DOUBLE\n    - name: input_feature_20\n      nullable: false\n      type: DOUBLE\n    - name: input_feature_21\n      nullable: false\n      type: DOUBLE\n    - name: input_feature_22\n      nullable: false\n      type: DOUBLE\n    - name: input_feature_23\n      nullable: false\n      type: DOUBLE\n    - name: input_feature_24\n      nullable: false\n      type: DOUBLE\n    - name: input_feature_25\n      nullable: false\n      type: DOUBLE\n    - name: input_feature_26\n      nullable: false\n      type: DOUBLE\n    - name: input_feature_27\n      nullable: false\n      type: DOUBLE\n    - name: input_feature_28\n      nullable: false\n      type: DOUBLE\n    - name: input_feature_29\n      nullable: false\n      type: DOUBLE\n    - name: input_feature_30\n      nullable: false\n      type: DOUBLE\n    - name: input_feature_31\n      nullable: false\n      type: DOUBLE\n    - name: input_feature_32\n      nullable: false\n      type: DOUBLE\n    - name: input_feature_33\n      nullable: false\n      type: DOUBLE\n    - name: input_feature_34\n      nullable: false\n      type: DOUBLE\n    - name: input_feature_35\n      nullable: false\n      type: DOUBLE\n    - name: input_feature_36\n      nullable: false\n      type: DOUBLE\n    - name: input_feature_37\n      nullable: false\n      type: DOUBLE\n    - name: input_feature_38\n      nullable: false\n      type: DOUBLE\n    - name: input_feature_39\n      nullable: false\n      type: DOUBLE\n    - name: input_feature_40\n      nullable: false\n      type: DOUBLE\n    - name: input_feature_41\n      nullable: false\n      type: DOUBLE\n    - name: input_feature_42\n      nullable: false\n      type: DOUBLE\n    - name: input_feature_43\n      nullable: false\n      type: DOUBLE\n    - name: input_feature_44\n      nullable: false\n      type: DOUBLE\n    - name: input_feature_45\n      nullable: false\n      type: DOUBLE\n    - name: input_feature_46\n      nullable: false\n      type: DOUBLE\n    - name: input_feature_47\n      nullable: false\n      type: DOUBLE\n    - name: input_feature_48\n      nullable: false\n      type: DOUBLE\n    - name: input_feature_49\n      nullable: false\n      type: DOUBLE\n    - name: input_feature_50\n      nullable: false\n      type: DOUBLE\n    - name: input_feature_51\n      nullable: false\n      type: DOUBLE\n    - name: input_feature_52\n      nullable: false\n      type: DOUBLE\n    - name: input_feature_53\n      nullable: false\n      type: DOUBLE\n    - name: input_feature_54\n      nullable: false\n      type: DOUBLE\n    - name: input_feature_55\n      nullable: false\n      type: DOUBLE\n    - name: input_feature_56\n      nullable: false\n      type: DOUBLE\n    - name: input_feature_57\n      nullable: false\n      type: DOUBLE\n    - name: input_feature_58\n      nullable: false\n      type: DOUBLE\n    - name: input_feature_59\n      nullable: false\n      type: DOUBLE\n    - name: input_feature_60\n      nullable: false\n      type: DOUBLE\n    - name: input_feature_61\n      nullable: false\n      type: DOUBLE\n    - name: input_feature_62\n      nullable: false\n      type: DOUBLE\n    - name: input_feature_63\n      nullable: false\n      type: DOUBLE\n    outputs:\n    - name: output_feature_0\n      nullable: false\n      type: DOUBLE\n    - name: output_feature_1\n      nullable: false\n      type: DOUBLE\n  predict_proba:\n    inputs:\n    - name: input_feature_0\n      nullable: false\n      type: DOUBLE\n    - name: input_feature_1\n      nullable: false\n      type: DOUBLE\n    - name: input_feature_2\n      nullable: false\n      type: DOUBLE\n    - name: input_feature_3\n      nullable: false\n      type: DOUBLE\n    - name: input_feature_4\n      nullable: false\n      type: DOUBLE\n    - name: input_feature_5\n      nullable: false\n      type: DOUBLE\n    - name: input_feature_6\n      nullable: false\n      type: DOUBLE\n    - name: input_feature_7\n      nullable: false\n      type: DOUBLE\n    - name: input_feature_8\n      nullable: false\n      type: DOUBLE\n    - name: input_feature_9\n      nullable: false\n      type: DOUBLE\n    - name: input_feature_10\n      nullable: false\n      type: DOUBLE\n    - name: input_feature_11\n      nullable: false\n      type: DOUBLE\n    - name: input_feature_12\n      nullable: false\n      type: DOUBLE\n    - name: input_feature_13\n      nullable: false\n      type: DOUBLE\n    - name: input_feature_14\n      nullable: false\n      type: DOUBLE\n    - name: input_feature_15\n      nullable: false\n      type: DOUBLE\n    - name: input_feature_16\n      nullable: false\n      type: DOUBLE\n    - name: input_feature_17\n      nullable: false\n      type: DOUBLE\n    - name: input_feature_18\n      nullable: false\n      type: DOUBLE\n    - name: input_feature_19\n      nullable: false\n      type: DOUBLE\n    - name: input_feature_20\n      nullable: false\n      type: DOUBLE\n    - name: input_feature_21\n      nullable: false\n      type: DOUBLE\n    - name: input_feature_22\n      nullable: false\n      type: DOUBLE\n    - name: input_feature_23\n      nullable: false\n      type: DOUBLE\n    - name: input_feature_24\n      nullable: false\n      type: DOUBLE\n    - name: input_feature_25\n      nullable: false\n      type: DOUBLE\n    - name: input_feature_26\n      nullable: false\n      type: DOUBLE\n    - name: input_feature_27\n      nullable: false\n      type: DOUBLE\n    - name: input_feature_28\n      nullable: false\n      type: DOUBLE\n    - name: input_feature_29\n      nullable: false\n      type: DOUBLE\n    - name: input_feature_30\n      nullable: false\n      type: DOUBLE\n    - name: input_feature_31\n      nullable: false\n      type: DOUBLE\n    - name: input_feature_32\n      nullable: false\n      type: DOUBLE\n    - name: input_feature_33\n      nullable: false\n      type: DOUBLE\n    - name: input_feature_34\n      nullable: false\n      type: DOUBLE\n    - name: input_feature_35\n      nullable: false\n      type: DOUBLE\n    - name: input_feature_36\n      nullable: false\n      type: DOUBLE\n    - name: input_feature_37\n      nullable: false\n      type: DOUBLE\n    - name: input_feature_38\n      nullable: false\n      type: DOUBLE\n    - name: input_feature_39\n      nullable: false\n      type: DOUBLE\n    - name: input_feature_40\n      nullable: false\n      type: DOUBLE\n    - name: input_feature_41\n      nullable: false\n      type: DOUBLE\n    - name: input_feature_42\n      nullable: false\n      type: DOUBLE\n    - name: input_feature_43\n      nullable: false\n      type: DOUBLE\n    - name: input_feature_44\n      nullable: false\n      type: DOUBLE\n    - name: input_feature_45\n      nullable: false\n      type: DOUBLE\n    - name: input_feature_46\n      nullable: false\n      type: DOUBLE\n    - name: input_feature_47\n      nullable: false\n      type: DOUBLE\n    - name: input_feature_48\n      nullable: false\n      type: DOUBLE\n    - name: input_feature_49\n      nullable: false\n      type: DOUBLE\n    - name: input_feature_50\n      nullable: false\n      type: DOUBLE\n    - name: input_feature_51\n      nullable: false\n      type: DOUBLE\n    - name: input_feature_52\n      nullable: false\n      type: DOUBLE\n    - name: input_feature_53\n      nullable: false\n      type: DOUBLE\n    - name: input_feature_54\n      nullable: false\n      type: DOUBLE\n    - name: input_feature_55\n      nullable: false\n      type: DOUBLE\n    - name: input_feature_56\n      nullable: false\n      type: DOUBLE\n    - name: input_feature_57\n      nullable: false\n      type: DOUBLE\n    - name: input_feature_58\n      nullable: false\n      type: DOUBLE\n    - name: input_feature_59\n      nullable: false\n      type: DOUBLE\n    - name: input_feature_60\n      nullable: false\n      type: DOUBLE\n    - name: input_feature_61\n      nullable: false\n      type: DOUBLE\n    - name: input_feature_62\n      nullable: false\n      type: DOUBLE\n    - name: input_feature_63\n      nullable: false\n      type: DOUBLE\n    outputs:\n    - name: output_feature_0\n      nullable: false\n      type: DOUBLE\n    - name: output_feature_1\n      nullable: false\n      type: DOUBLE\ntask: TABULAR_BINARY_CLASSIFICATION\nversion: '2023-12-01'\n"
        ]
       ],
       "shape": {
        "columns": 17,
        "rows": 1
       }
      },
      "text/html": [
       "<div>\n",
       "<style scoped>\n",
       "    .dataframe tbody tr th:only-of-type {\n",
       "        vertical-align: middle;\n",
       "    }\n",
       "\n",
       "    .dataframe tbody tr th {\n",
       "        vertical-align: top;\n",
       "    }\n",
       "\n",
       "    .dataframe thead th {\n",
       "        text-align: right;\n",
       "    }\n",
       "</style>\n",
       "<table border=\"1\" class=\"dataframe\">\n",
       "  <thead>\n",
       "    <tr style=\"text-align: right;\">\n",
       "      <th></th>\n",
       "      <th>created_on</th>\n",
       "      <th>name</th>\n",
       "      <th>aliases</th>\n",
       "      <th>comment</th>\n",
       "      <th>database_name</th>\n",
       "      <th>schema_name</th>\n",
       "      <th>model_name</th>\n",
       "      <th>is_default_version</th>\n",
       "      <th>functions</th>\n",
       "      <th>metadata</th>\n",
       "      <th>user_data</th>\n",
       "      <th>model_attributes</th>\n",
       "      <th>size</th>\n",
       "      <th>environment</th>\n",
       "      <th>runnable_in</th>\n",
       "      <th>inference_services</th>\n",
       "      <th>model_spec</th>\n",
       "    </tr>\n",
       "  </thead>\n",
       "  <tbody>\n",
       "    <tr>\n",
       "      <th>0</th>\n",
       "      <td>2025-05-02 09:18:00.703000-07:00</td>\n",
       "      <td>V1</td>\n",
       "      <td>[\"DEFAULT\",\"FIRST\",\"LAST\"]</td>\n",
       "      <td>This is the first version of my model.</td>\n",
       "      <td>MY_REGISTRY</td>\n",
       "      <td>PUBLIC</td>\n",
       "      <td>MY_MODEL</td>\n",
       "      <td>true</td>\n",
       "      <td>[\"PREDICT_PROBA\",\"EXPLAIN\",\"PREDICT\",\"DECISION...</td>\n",
       "      <td>{\"metrics\": {\"test_accuracy\": 0.97, \"num_train...</td>\n",
       "      <td>{}</td>\n",
       "      <td>{\"framework\":\"sklearn\",\"task\":\"TABULAR_BINARY_...</td>\n",
       "      <td>103625</td>\n",
       "      <td>{\"default\":{\"python_version\":\"3.11\",\"snowflake...</td>\n",
       "      <td>[\"WAREHOUSE\",\"SNOWPARK_CONTAINER_SERVICES\"]</td>\n",
       "      <td>[]</td>\n",
       "      <td>creation_timestamp: '2025-05-02 16:18:19.15864...</td>\n",
       "    </tr>\n",
       "  </tbody>\n",
       "</table>\n",
       "</div>"
      ],
      "text/plain": [
       "                        created_on name                     aliases  \\\n",
       "0 2025-05-02 09:18:00.703000-07:00   V1  [\"DEFAULT\",\"FIRST\",\"LAST\"]   \n",
       "\n",
       "                                  comment database_name schema_name  \\\n",
       "0  This is the first version of my model.   MY_REGISTRY      PUBLIC   \n",
       "\n",
       "  model_name is_default_version  \\\n",
       "0   MY_MODEL               true   \n",
       "\n",
       "                                           functions  \\\n",
       "0  [\"PREDICT_PROBA\",\"EXPLAIN\",\"PREDICT\",\"DECISION...   \n",
       "\n",
       "                                            metadata user_data  \\\n",
       "0  {\"metrics\": {\"test_accuracy\": 0.97, \"num_train...        {}   \n",
       "\n",
       "                                    model_attributes    size  \\\n",
       "0  {\"framework\":\"sklearn\",\"task\":\"TABULAR_BINARY_...  103625   \n",
       "\n",
       "                                         environment  \\\n",
       "0  {\"default\":{\"python_version\":\"3.11\",\"snowflake...   \n",
       "\n",
       "                                   runnable_in inference_services  \\\n",
       "0  [\"WAREHOUSE\",\"SNOWPARK_CONTAINER_SERVICES\"]                 []   \n",
       "\n",
       "                                          model_spec  \n",
       "0  creation_timestamp: '2025-05-02 16:18:19.15864...  "
      ]
     },
     "execution_count": 32,
     "metadata": {},
     "output_type": "execute_result"
    }
   ],
   "source": [
    "m.show_versions()"
   ]
  },
  {
   "cell_type": "markdown",
   "metadata": {},
   "source": [
    "### Default version\n"
   ]
  },
  {
   "cell_type": "markdown",
   "metadata": {},
   "source": [
    "You could set a default version of a model\n"
   ]
  },
  {
   "cell_type": "code",
   "execution_count": 33,
   "metadata": {},
   "outputs": [],
   "source": [
    "m.default = version_name"
   ]
  },
  {
   "cell_type": "code",
   "execution_count": 34,
   "metadata": {},
   "outputs": [
    {
     "data": {
      "text/plain": [
       "ModelVersion(\n",
       "  name='MY_MODEL',\n",
       "  version='V1',\n",
       ")"
      ]
     },
     "execution_count": 34,
     "metadata": {},
     "output_type": "execute_result"
    }
   ],
   "source": [
    "m.default"
   ]
  },
  {
   "cell_type": "markdown",
   "metadata": {},
   "source": [
    "### TAG management"
   ]
  },
  {
   "cell_type": "markdown",
   "metadata": {},
   "source": [
    "You could set Snowflake TAG on a model. You need to have your TAG pre-created before setting it. Below we will show how to use TAG to label a live version of the model."
   ]
  },
  {
   "cell_type": "markdown",
   "metadata": {},
   "source": [
    "Note: When a tag is not set to a model, `get_tag` will return `None`."
   ]
  },
  {
   "cell_type": "code",
   "execution_count": null,
   "metadata": {},
   "outputs": [],
   "source": [
    "m.get_tag(\"live_version\")"
   ]
  },
  {
   "cell_type": "code",
   "execution_count": null,
   "metadata": {},
   "outputs": [],
   "source": [
    "m.set_tag(\"live_version\", version_name)"
   ]
  },
  {
   "cell_type": "code",
   "execution_count": null,
   "metadata": {},
   "outputs": [],
   "source": [
    "m.get_tag(\"live_version\")"
   ]
  },
  {
   "cell_type": "code",
   "execution_count": null,
   "metadata": {},
   "outputs": [],
   "source": [
    "m.show_tags()"
   ]
  },
  {
   "cell_type": "code",
   "execution_count": null,
   "metadata": {},
   "outputs": [],
   "source": [
    "m.unset_tag(\"live_version\")"
   ]
  },
  {
   "cell_type": "code",
   "execution_count": null,
   "metadata": {},
   "outputs": [],
   "source": [
    "m.show_tags()"
   ]
  },
  {
   "cell_type": "markdown",
   "metadata": {},
   "source": [
    "### Delete model\n"
   ]
  },
  {
   "cell_type": "code",
   "execution_count": null,
   "metadata": {},
   "outputs": [],
   "source": [
    "reg.delete_model(model_name)"
   ]
  },
  {
   "cell_type": "code",
   "execution_count": null,
   "metadata": {},
   "outputs": [],
   "source": [
    "reg.show_models()"
   ]
  },
  {
   "cell_type": "markdown",
   "metadata": {},
   "source": [
    "## Use with Snowpark ML Modeling Model and Snowpark DataFrame\n"
   ]
  },
  {
   "cell_type": "markdown",
   "metadata": {},
   "source": [
    "### Prepare Dataset\n"
   ]
  },
  {
   "cell_type": "code",
   "execution_count": null,
   "metadata": {},
   "outputs": [],
   "source": [
    "DATA_TABLE_NAME = \"KDDCUP99_DATASET\"\n",
    "\n",
    "kddcup99_data = datasets.fetch_kddcup99(as_frame=True)\n",
    "kddcup99_sp_df = session.create_dataframe(kddcup99_data.frame)\n",
    "kddcup99_sp_df.write.mode(\"overwrite\").save_as_table(DATA_TABLE_NAME)"
   ]
  },
  {
   "cell_type": "code",
   "execution_count": null,
   "metadata": {},
   "outputs": [],
   "source": [
    "from snowflake.ml.modeling.preprocessing import one_hot_encoder, ordinal_encoder, standard_scaler\n",
    "from snowflake.ml.modeling.pipeline import pipeline\n",
    "from snowflake.ml.modeling.xgboost import xgb_classifier\n",
    "import snowflake.snowpark.functions as F\n",
    "\n",
    "quote_fn = lambda x: f'\"{x}\"'\n",
    "\n",
    "ONE_HOT_ENCODE_COL_NAMES = [\"protocol_type\", \"service\", \"flag\"]\n",
    "ORDINAL_ENCODE_COL_NAMES = [\"labels\"]\n",
    "STANDARD_SCALER_COL_NAMES = [\n",
    "    \"duration\",\n",
    "    \"src_bytes\",\n",
    "    \"dst_bytes\",\n",
    "    \"wrong_fragment\",\n",
    "    \"urgent\",\n",
    "    \"hot\",\n",
    "    \"num_failed_logins\",\n",
    "    \"num_compromised\",\n",
    "    \"num_root\",\n",
    "    \"num_file_creations\",\n",
    "    \"num_shells\",\n",
    "    \"num_access_files\",\n",
    "    \"num_outbound_cmds\",\n",
    "    \"count\",\n",
    "    \"srv_count\",\n",
    "    \"dst_host_count\",\n",
    "    \"dst_host_srv_count\",\n",
    "]\n",
    "\n",
    "TRAIN_SIZE_K = 0.2\n",
    "kddcup99_data = session.table(DATA_TABLE_NAME)\n",
    "kddcup99_data = kddcup99_data.with_columns(\n",
    "    list(map(quote_fn, ONE_HOT_ENCODE_COL_NAMES + ORDINAL_ENCODE_COL_NAMES)),\n",
    "    [\n",
    "        F.to_char(col_name, \"utf-8\")\n",
    "        for col_name in list(map(quote_fn, ONE_HOT_ENCODE_COL_NAMES + ORDINAL_ENCODE_COL_NAMES))\n",
    "    ],\n",
    ")\n",
    "kddcup99_sp_df_train, kddcup99_sp_df_test = tuple(\n",
    "    kddcup99_data.random_split([TRAIN_SIZE_K, 1 - TRAIN_SIZE_K], seed=2568)\n",
    ")\n",
    "\n",
    "pipe = pipeline.Pipeline(\n",
    "    steps=[\n",
    "        (\n",
    "            \"OHEHOT\",\n",
    "            one_hot_encoder.OneHotEncoder(\n",
    "                handle_unknown=\"ignore\",\n",
    "                input_cols=list(map(quote_fn, ONE_HOT_ENCODE_COL_NAMES)),\n",
    "                output_cols=ONE_HOT_ENCODE_COL_NAMES,\n",
    "                drop_input_cols=True,\n",
    "            ),\n",
    "        ),\n",
    "        (\n",
    "            \"ORDINAL\",\n",
    "            ordinal_encoder.OrdinalEncoder(\n",
    "                input_cols=list(map(quote_fn, ORDINAL_ENCODE_COL_NAMES)),\n",
    "                output_cols=['\"encoded_labels\"'],\n",
    "                drop_input_cols=True,\n",
    "            ),\n",
    "        ),\n",
    "        (\n",
    "            \"STD\",\n",
    "            standard_scaler.StandardScaler(\n",
    "                input_cols=list(map(quote_fn, STANDARD_SCALER_COL_NAMES)),\n",
    "                output_cols=list(map(quote_fn, STANDARD_SCALER_COL_NAMES)),\n",
    "                drop_input_cols=True,\n",
    "            ),\n",
    "        ),\n",
    "        (\"CLASSIFIER\", xgb_classifier.XGBClassifier(label_cols=['\"encoded_labels\"'])),\n",
    "    ]\n",
    ")\n",
    "pipe.fit(kddcup99_sp_df_train)"
   ]
  },
  {
   "cell_type": "code",
   "execution_count": null,
   "metadata": {},
   "outputs": [],
   "source": [
    "model_name = \"pipeline_model\"\n",
    "version_name = \"v2\""
   ]
  },
  {
   "cell_type": "code",
   "execution_count": null,
   "metadata": {},
   "outputs": [],
   "source": [
    "mv = reg.log_model(pipe, model_name=model_name, version_name=version_name)"
   ]
  },
  {
   "cell_type": "code",
   "execution_count": null,
   "metadata": {},
   "outputs": [],
   "source": [
    "mv.run(kddcup99_sp_df_test, function_name=\"predict\").show()"
   ]
  },
  {
   "cell_type": "markdown",
   "metadata": {},
   "source": [
    "## Use with customize model"
   ]
  },
  {
   "cell_type": "markdown",
   "metadata": {},
   "source": [
    "### Download a GPT-2 model"
   ]
  },
  {
   "cell_type": "code",
   "execution_count": null,
   "metadata": {},
   "outputs": [],
   "source": [
    "from transformers import AutoModelForCausalLM, AutoTokenizer\n",
    "\n",
    "model_name = \"gpt2-medium\"\n",
    "tokenizer = AutoTokenizer.from_pretrained(model_name)\n",
    "model = AutoModelForCausalLM.from_pretrained(model_name)"
   ]
  },
  {
   "cell_type": "markdown",
   "metadata": {},
   "source": [
    "### Store GPT-2 Model components locally"
   ]
  },
  {
   "cell_type": "code",
   "execution_count": null,
   "metadata": {},
   "outputs": [],
   "source": [
    "ARTIFACTS_DIR = \"/tmp/gpt-2/\""
   ]
  },
  {
   "cell_type": "code",
   "execution_count": null,
   "metadata": {},
   "outputs": [],
   "source": [
    "import os\n",
    "\n",
    "os.makedirs(os.path.join(ARTIFACTS_DIR, \"model\"), exist_ok=True)\n",
    "os.makedirs(os.path.join(ARTIFACTS_DIR, \"tokenizer\"), exist_ok=True)\n",
    "\n",
    "model.save_pretrained(os.path.join(ARTIFACTS_DIR, \"model\"))\n",
    "tokenizer.save_pretrained(os.path.join(ARTIFACTS_DIR, \"tokenizer\"))"
   ]
  },
  {
   "cell_type": "markdown",
   "metadata": {},
   "source": [
    "### Create a custom model using GPT-2"
   ]
  },
  {
   "cell_type": "code",
   "execution_count": null,
   "metadata": {},
   "outputs": [],
   "source": [
    "from snowflake.ml.model import custom_model\n",
    "import pandas as pd\n",
    "\n",
    "\n",
    "class GPT2Model(custom_model.CustomModel):\n",
    "    def __init__(self, context: custom_model.ModelContext) -> None:\n",
    "        super().__init__(context)\n",
    "\n",
    "        self.model = AutoModelForCausalLM.from_pretrained(self.context.path(\"model\"))\n",
    "        self.tokenizer = AutoTokenizer.from_pretrained(self.context.path(\"tokenizer\"))\n",
    "\n",
    "    @custom_model.inference_api\n",
    "    def predict(self, X: pd.DataFrame) -> pd.DataFrame:\n",
    "        def _generate(input_text: str) -> str:\n",
    "            input_ids = self.tokenizer.encode(input_text, return_tensors=\"pt\")\n",
    "\n",
    "            output = self.model.generate(input_ids, max_length=50, do_sample=True, top_p=0.95, top_k=60)\n",
    "            generated_text = self.tokenizer.decode(output[0], skip_special_tokens=True)\n",
    "\n",
    "            return generated_text\n",
    "\n",
    "        res_df = pd.DataFrame({\"output\": pd.Series.apply(X[\"input\"], _generate)})\n",
    "        return res_df"
   ]
  },
  {
   "cell_type": "code",
   "execution_count": null,
   "metadata": {},
   "outputs": [],
   "source": [
    "gpt_model = GPT2Model(\n",
    "    custom_model.ModelContext(\n",
    "        models={},\n",
    "        artifacts={\n",
    "            \"model\": os.path.join(ARTIFACTS_DIR, \"model\"),\n",
    "            \"tokenizer\": os.path.join(ARTIFACTS_DIR, \"tokenizer\"),\n",
    "        },\n",
    "    )\n",
    ")\n",
    "\n",
    "gpt_model.predict(pd.DataFrame({\"input\": [\"Hello, are you GPT?\"]}))"
   ]
  },
  {
   "cell_type": "markdown",
   "metadata": {},
   "source": [
    "### Register the custom model"
   ]
  },
  {
   "cell_type": "markdown",
   "metadata": {},
   "source": [
    "Here, how to specify dependencies and model signature manually is shown."
   ]
  },
  {
   "cell_type": "code",
   "execution_count": null,
   "metadata": {},
   "outputs": [],
   "source": [
    "model_name = \"gpt2_medium\"\n",
    "version_name = \"v1\""
   ]
  },
  {
   "cell_type": "code",
   "execution_count": null,
   "metadata": {},
   "outputs": [],
   "source": [
    "from snowflake.ml.model import model_signature\n",
    "\n",
    "mv = reg.log_model(\n",
    "    gpt_model,\n",
    "    model_name=model_name,\n",
    "    version_name=version_name,\n",
    "    conda_dependencies=[\"pytorch\", \"transformers\"],\n",
    "    signatures={\n",
    "        \"predict\": model_signature.ModelSignature(\n",
    "            inputs=[model_signature.FeatureSpec(name=\"input\", dtype=model_signature.DataType.STRING)],\n",
    "            outputs=[model_signature.FeatureSpec(name=\"output\", dtype=model_signature.DataType.STRING)],\n",
    "        )\n",
    "    },\n",
    ")"
   ]
  },
  {
   "cell_type": "code",
   "execution_count": null,
   "metadata": {},
   "outputs": [],
   "source": [
    "mv.run(pd.DataFrame({\"input\": [\"Hello, are you GPT?\"]}))"
   ]
  },
  {
   "cell_type": "markdown",
   "metadata": {},
   "source": [
    "## Use with Sentence Transformer model"
   ]
  },
  {
   "cell_type": "code",
   "execution_count": null,
   "metadata": {},
   "outputs": [],
   "source": [
    "from sentence_transformers import SentenceTransformer\n",
    "\n",
    "embed_model = SentenceTransformer('distilbert-base-nli-mean-tokens')"
   ]
  },
  {
   "cell_type": "code",
   "execution_count": null,
   "metadata": {},
   "outputs": [],
   "source": [
    "input_data = [\n",
    "    \"This is the first sentence.\",\n",
    "    \"Here's another sentence for testing.\",\n",
    "    \"The quick brown fox jumps over the lazy dog.\",\n",
    "    \"I love coding and programming.\",\n",
    "    \"Machine learning is an exciting field.\",\n",
    "    \"Python is a popular programming language.\",\n",
    "    \"I enjoy working with data.\",\n",
    "    \"Deep learning models are powerful.\",\n",
    "    \"Natural language processing is fascinating.\",\n",
    "    \"I want to improve my NLP skills.\",\n",
    "]"
   ]
  },
  {
   "cell_type": "code",
   "execution_count": null,
   "metadata": {},
   "outputs": [],
   "source": [
    "mv = reg.log_model(model, model_name=\"sentence_transformer\", sample_input_data=input_data)"
   ]
  },
  {
   "cell_type": "code",
   "execution_count": null,
   "metadata": {},
   "outputs": [],
   "source": [
    "mv.run(input_data)"
   ]
  }
 ],
 "metadata": {
  "kernelspec": {
   "display_name": "snowpark-ml-0304",
   "language": "python",
   "name": "python3"
  },
  "language_info": {
   "codemirror_mode": {
    "name": "ipython",
    "version": 3
   },
   "file_extension": ".py",
   "mimetype": "text/x-python",
   "name": "python",
   "nbconvert_exporter": "python",
   "pygments_lexer": "ipython3",
   "version": "3.11.11"
  }
 },
 "nbformat": 4,
 "nbformat_minor": 2
}
